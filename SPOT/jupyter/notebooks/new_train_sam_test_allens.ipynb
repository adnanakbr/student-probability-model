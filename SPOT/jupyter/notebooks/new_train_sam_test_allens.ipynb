{
 "cells": [
  {
   "cell_type": "code",
   "execution_count": 21,
   "metadata": {},
   "outputs": [],
   "source": [
    "import pandas as pd\n",
    "import numpy as np"
   ]
  },
  {
   "cell_type": "code",
   "execution_count": 2,
   "metadata": {},
   "outputs": [],
   "source": [
    "df_sam_pat = pd.read_csv('../data/samstein/data_clinical_patient.txt', error_bad_lines=False, \n",
    "                  skiprows = [0,1,2,3], low_memory=False, sep='\\t')\n",
    "df_sam_clin = pd.read_csv('../data/samstein/data_clinical_sample.txt', error_bad_lines=False, \n",
    "                  skiprows = [0,1,2,3], low_memory=False, sep='\\t')\n",
    "df_sam_mut = pd.read_csv('../data/samstein/data_mutations_extended.txt', error_bad_lines=False, \n",
    "                  low_memory=False, sep='\\t')"
   ]
  },
  {
   "cell_type": "code",
   "execution_count": 3,
   "metadata": {},
   "outputs": [
    {
     "data": {
      "text/html": [
       "<div>\n",
       "<style scoped>\n",
       "    .dataframe tbody tr th:only-of-type {\n",
       "        vertical-align: middle;\n",
       "    }\n",
       "\n",
       "    .dataframe tbody tr th {\n",
       "        vertical-align: top;\n",
       "    }\n",
       "\n",
       "    .dataframe thead th {\n",
       "        text-align: right;\n",
       "    }\n",
       "</style>\n",
       "<table border=\"1\" class=\"dataframe\">\n",
       "  <thead>\n",
       "    <tr style=\"text-align: right;\">\n",
       "      <th></th>\n",
       "      <th>PATIENT_ID</th>\n",
       "      <th>TMB_SCORE</th>\n",
       "      <th>SEX</th>\n",
       "      <th>OS_MONTHS</th>\n",
       "      <th>OS_STATUS</th>\n",
       "      <th>AGE_GROUP</th>\n",
       "      <th>DRUG_TYPE</th>\n",
       "    </tr>\n",
       "  </thead>\n",
       "  <tbody>\n",
       "    <tr>\n",
       "      <th>0</th>\n",
       "      <td>P-0000057</td>\n",
       "      <td>5.580000</td>\n",
       "      <td>Female</td>\n",
       "      <td>0</td>\n",
       "      <td>DECEASED</td>\n",
       "      <td>31-50</td>\n",
       "      <td>PD-1/PDL-1</td>\n",
       "    </tr>\n",
       "    <tr>\n",
       "      <th>1</th>\n",
       "      <td>P-0000062</td>\n",
       "      <td>6.691462</td>\n",
       "      <td>Male</td>\n",
       "      <td>1</td>\n",
       "      <td>DECEASED</td>\n",
       "      <td>&gt;71</td>\n",
       "      <td>PD-1/PDL-1</td>\n",
       "    </tr>\n",
       "    <tr>\n",
       "      <th>2</th>\n",
       "      <td>P-0000063</td>\n",
       "      <td>16.728656</td>\n",
       "      <td>Male</td>\n",
       "      <td>42</td>\n",
       "      <td>LIVING</td>\n",
       "      <td>61-70</td>\n",
       "      <td>PD-1/PDL-1</td>\n",
       "    </tr>\n",
       "    <tr>\n",
       "      <th>3</th>\n",
       "      <td>P-0000071</td>\n",
       "      <td>11.152437</td>\n",
       "      <td>Male</td>\n",
       "      <td>43</td>\n",
       "      <td>LIVING</td>\n",
       "      <td>61-70</td>\n",
       "      <td>PD-1/PDL-1</td>\n",
       "    </tr>\n",
       "    <tr>\n",
       "      <th>4</th>\n",
       "      <td>P-0000082</td>\n",
       "      <td>1.120000</td>\n",
       "      <td>Male</td>\n",
       "      <td>57</td>\n",
       "      <td>LIVING</td>\n",
       "      <td>50-60</td>\n",
       "      <td>PD-1/PDL-1</td>\n",
       "    </tr>\n",
       "  </tbody>\n",
       "</table>\n",
       "</div>"
      ],
      "text/plain": [
       "  PATIENT_ID  TMB_SCORE     SEX  OS_MONTHS OS_STATUS AGE_GROUP   DRUG_TYPE\n",
       "0  P-0000057   5.580000  Female          0  DECEASED     31-50  PD-1/PDL-1\n",
       "1  P-0000062   6.691462    Male          1  DECEASED       >71  PD-1/PDL-1\n",
       "2  P-0000063  16.728656    Male         42    LIVING     61-70  PD-1/PDL-1\n",
       "3  P-0000071  11.152437    Male         43    LIVING     61-70  PD-1/PDL-1\n",
       "4  P-0000082   1.120000    Male         57    LIVING     50-60  PD-1/PDL-1"
      ]
     },
     "execution_count": 3,
     "metadata": {},
     "output_type": "execute_result"
    }
   ],
   "source": [
    "df_sam_pat.head()"
   ]
  },
  {
   "cell_type": "code",
   "execution_count": 4,
   "metadata": {},
   "outputs": [
    {
     "data": {
      "text/plain": [
       "TP53      834\n",
       "TERT      572\n",
       "CDKN2A    374\n",
       "KMT2D     356\n",
       "APC       260\n",
       "         ... \n",
       "TCEB1       1\n",
       "GTF2I       1\n",
       "RRAGC       1\n",
       "FIP1L1      1\n",
       "RRAS        1\n",
       "Name: Hugo_Symbol, Length: 469, dtype: int64"
      ]
     },
     "execution_count": 4,
     "metadata": {},
     "output_type": "execute_result"
    }
   ],
   "source": [
    "df_sam_mut['Hugo_Symbol'].value_counts()"
   ]
  },
  {
   "cell_type": "code",
   "execution_count": 5,
   "metadata": {},
   "outputs": [],
   "source": [
    "def get_status_label(os_months, os_status, threshold):\n",
    "    if (os_months<threshold) & (os_status=='DECEASED'):\n",
    "        status_label=0\n",
    "    elif (os_months>=3):\n",
    "        status_label=1\n",
    "    else:\n",
    "        status_label=np.nan\n",
    "#     elif os_status=='DECEASED':\n",
    "#             status_label=0\n",
    "#     else:\n",
    "#         status_label=np.nan\n",
    "    return status_label"
   ]
  },
  {
   "cell_type": "code",
   "execution_count": 6,
   "metadata": {},
   "outputs": [
    {
     "data": {
      "text/plain": [
       "11.0"
      ]
     },
     "execution_count": 6,
     "metadata": {},
     "output_type": "execute_result"
    }
   ],
   "source": [
    "df_sam_pat['OS_MONTHS'].median()"
   ]
  },
  {
   "cell_type": "code",
   "execution_count": 7,
   "metadata": {},
   "outputs": [
    {
     "data": {
      "text/plain": [
       "2.0"
      ]
     },
     "execution_count": 7,
     "metadata": {},
     "output_type": "execute_result"
    }
   ],
   "source": [
    "df_sam_pat['OS_MONTHS'].quantile(0.1)"
   ]
  },
  {
   "cell_type": "code",
   "execution_count": 8,
   "metadata": {},
   "outputs": [
    {
     "data": {
      "text/plain": [
       "PD-1/PDL-1    1307\n",
       "Combo          255\n",
       "CTLA4           99\n",
       "Name: DRUG_TYPE, dtype: int64"
      ]
     },
     "execution_count": 8,
     "metadata": {},
     "output_type": "execute_result"
    }
   ],
   "source": [
    "df_sam_pat.DRUG_TYPE.value_counts()"
   ]
  },
  {
   "cell_type": "code",
   "execution_count": 9,
   "metadata": {},
   "outputs": [],
   "source": [
    "df_sam_pat['label'] = df_sam_pat.apply(lambda row: get_status_label(row.OS_MONTHS, row.OS_STATUS, 11), axis=1)"
   ]
  },
  {
   "cell_type": "code",
   "execution_count": 10,
   "metadata": {},
   "outputs": [],
   "source": [
    "df_sam_pat1 = df_sam_pat[df_sam_pat['DRUG_TYPE']=='PD-1/PDL-1']"
   ]
  },
  {
   "cell_type": "code",
   "execution_count": 11,
   "metadata": {},
   "outputs": [
    {
     "data": {
      "text/plain": [
       "1307"
      ]
     },
     "execution_count": 11,
     "metadata": {},
     "output_type": "execute_result"
    }
   ],
   "source": [
    "len(df_sam_pat1)"
   ]
  },
  {
   "cell_type": "code",
   "execution_count": 12,
   "metadata": {},
   "outputs": [
    {
     "data": {
      "text/html": [
       "<div>\n",
       "<style scoped>\n",
       "    .dataframe tbody tr th:only-of-type {\n",
       "        vertical-align: middle;\n",
       "    }\n",
       "\n",
       "    .dataframe tbody tr th {\n",
       "        vertical-align: top;\n",
       "    }\n",
       "\n",
       "    .dataframe thead th {\n",
       "        text-align: right;\n",
       "    }\n",
       "</style>\n",
       "<table border=\"1\" class=\"dataframe\">\n",
       "  <thead>\n",
       "    <tr style=\"text-align: right;\">\n",
       "      <th></th>\n",
       "      <th>PATIENT_ID</th>\n",
       "      <th>TMB_SCORE</th>\n",
       "      <th>SEX</th>\n",
       "      <th>OS_MONTHS</th>\n",
       "      <th>OS_STATUS</th>\n",
       "      <th>AGE_GROUP</th>\n",
       "      <th>DRUG_TYPE</th>\n",
       "      <th>label</th>\n",
       "    </tr>\n",
       "  </thead>\n",
       "  <tbody>\n",
       "    <tr>\n",
       "      <th>0</th>\n",
       "      <td>P-0000057</td>\n",
       "      <td>5.580000</td>\n",
       "      <td>Female</td>\n",
       "      <td>0</td>\n",
       "      <td>DECEASED</td>\n",
       "      <td>31-50</td>\n",
       "      <td>PD-1/PDL-1</td>\n",
       "      <td>0.0</td>\n",
       "    </tr>\n",
       "    <tr>\n",
       "      <th>1</th>\n",
       "      <td>P-0000062</td>\n",
       "      <td>6.691462</td>\n",
       "      <td>Male</td>\n",
       "      <td>1</td>\n",
       "      <td>DECEASED</td>\n",
       "      <td>&gt;71</td>\n",
       "      <td>PD-1/PDL-1</td>\n",
       "      <td>0.0</td>\n",
       "    </tr>\n",
       "    <tr>\n",
       "      <th>2</th>\n",
       "      <td>P-0000063</td>\n",
       "      <td>16.728656</td>\n",
       "      <td>Male</td>\n",
       "      <td>42</td>\n",
       "      <td>LIVING</td>\n",
       "      <td>61-70</td>\n",
       "      <td>PD-1/PDL-1</td>\n",
       "      <td>1.0</td>\n",
       "    </tr>\n",
       "    <tr>\n",
       "      <th>3</th>\n",
       "      <td>P-0000071</td>\n",
       "      <td>11.152437</td>\n",
       "      <td>Male</td>\n",
       "      <td>43</td>\n",
       "      <td>LIVING</td>\n",
       "      <td>61-70</td>\n",
       "      <td>PD-1/PDL-1</td>\n",
       "      <td>1.0</td>\n",
       "    </tr>\n",
       "    <tr>\n",
       "      <th>4</th>\n",
       "      <td>P-0000082</td>\n",
       "      <td>1.120000</td>\n",
       "      <td>Male</td>\n",
       "      <td>57</td>\n",
       "      <td>LIVING</td>\n",
       "      <td>50-60</td>\n",
       "      <td>PD-1/PDL-1</td>\n",
       "      <td>1.0</td>\n",
       "    </tr>\n",
       "    <tr>\n",
       "      <th>5</th>\n",
       "      <td>P-0000088</td>\n",
       "      <td>13.382924</td>\n",
       "      <td>Male</td>\n",
       "      <td>12</td>\n",
       "      <td>DECEASED</td>\n",
       "      <td>61-70</td>\n",
       "      <td>PD-1/PDL-1</td>\n",
       "      <td>1.0</td>\n",
       "    </tr>\n",
       "    <tr>\n",
       "      <th>7</th>\n",
       "      <td>P-0000121</td>\n",
       "      <td>3.345731</td>\n",
       "      <td>Male</td>\n",
       "      <td>4</td>\n",
       "      <td>LIVING</td>\n",
       "      <td>31-50</td>\n",
       "      <td>PD-1/PDL-1</td>\n",
       "      <td>1.0</td>\n",
       "    </tr>\n",
       "    <tr>\n",
       "      <th>8</th>\n",
       "      <td>P-0000165</td>\n",
       "      <td>5.580000</td>\n",
       "      <td>Female</td>\n",
       "      <td>1</td>\n",
       "      <td>DECEASED</td>\n",
       "      <td>61-70</td>\n",
       "      <td>PD-1/PDL-1</td>\n",
       "      <td>0.0</td>\n",
       "    </tr>\n",
       "    <tr>\n",
       "      <th>9</th>\n",
       "      <td>P-0000184</td>\n",
       "      <td>8.921950</td>\n",
       "      <td>Male</td>\n",
       "      <td>8</td>\n",
       "      <td>LIVING</td>\n",
       "      <td>61-70</td>\n",
       "      <td>PD-1/PDL-1</td>\n",
       "      <td>1.0</td>\n",
       "    </tr>\n",
       "    <tr>\n",
       "      <th>11</th>\n",
       "      <td>P-0000208</td>\n",
       "      <td>2.230000</td>\n",
       "      <td>Female</td>\n",
       "      <td>13</td>\n",
       "      <td>DECEASED</td>\n",
       "      <td>61-70</td>\n",
       "      <td>PD-1/PDL-1</td>\n",
       "      <td>1.0</td>\n",
       "    </tr>\n",
       "  </tbody>\n",
       "</table>\n",
       "</div>"
      ],
      "text/plain": [
       "   PATIENT_ID  TMB_SCORE     SEX  OS_MONTHS OS_STATUS AGE_GROUP   DRUG_TYPE  \\\n",
       "0   P-0000057   5.580000  Female          0  DECEASED     31-50  PD-1/PDL-1   \n",
       "1   P-0000062   6.691462    Male          1  DECEASED       >71  PD-1/PDL-1   \n",
       "2   P-0000063  16.728656    Male         42    LIVING     61-70  PD-1/PDL-1   \n",
       "3   P-0000071  11.152437    Male         43    LIVING     61-70  PD-1/PDL-1   \n",
       "4   P-0000082   1.120000    Male         57    LIVING     50-60  PD-1/PDL-1   \n",
       "5   P-0000088  13.382924    Male         12  DECEASED     61-70  PD-1/PDL-1   \n",
       "7   P-0000121   3.345731    Male          4    LIVING     31-50  PD-1/PDL-1   \n",
       "8   P-0000165   5.580000  Female          1  DECEASED     61-70  PD-1/PDL-1   \n",
       "9   P-0000184   8.921950    Male          8    LIVING     61-70  PD-1/PDL-1   \n",
       "11  P-0000208   2.230000  Female         13  DECEASED     61-70  PD-1/PDL-1   \n",
       "\n",
       "    label  \n",
       "0     0.0  \n",
       "1     0.0  \n",
       "2     1.0  \n",
       "3     1.0  \n",
       "4     1.0  \n",
       "5     1.0  \n",
       "7     1.0  \n",
       "8     0.0  \n",
       "9     1.0  \n",
       "11    1.0  "
      ]
     },
     "execution_count": 12,
     "metadata": {},
     "output_type": "execute_result"
    }
   ],
   "source": [
    "df_sam_pat1.head(10)"
   ]
  },
  {
   "cell_type": "code",
   "execution_count": 13,
   "metadata": {},
   "outputs": [
    {
     "data": {
      "text/plain": [
       "1254"
      ]
     },
     "execution_count": 13,
     "metadata": {},
     "output_type": "execute_result"
    }
   ],
   "source": [
    "len(df_sam_pat1.dropna(subset=['label']))"
   ]
  },
  {
   "cell_type": "code",
   "execution_count": 14,
   "metadata": {},
   "outputs": [
    {
     "data": {
      "text/plain": [
       "1.0    773\n",
       "0.0    481\n",
       "Name: label, dtype: int64"
      ]
     },
     "execution_count": 14,
     "metadata": {},
     "output_type": "execute_result"
    }
   ],
   "source": [
    "df_sam_pat1['label'].value_counts()"
   ]
  },
  {
   "cell_type": "code",
   "execution_count": 15,
   "metadata": {},
   "outputs": [],
   "source": [
    "ptid_label_dict = df_sam_pat[['PATIENT_ID', 'label']].set_index('PATIENT_ID').to_dict()['label']"
   ]
  },
  {
   "cell_type": "code",
   "execution_count": 16,
   "metadata": {},
   "outputs": [
    {
     "data": {
      "text/html": [
       "<div>\n",
       "<style scoped>\n",
       "    .dataframe tbody tr th:only-of-type {\n",
       "        vertical-align: middle;\n",
       "    }\n",
       "\n",
       "    .dataframe tbody tr th {\n",
       "        vertical-align: top;\n",
       "    }\n",
       "\n",
       "    .dataframe thead th {\n",
       "        text-align: right;\n",
       "    }\n",
       "</style>\n",
       "<table border=\"1\" class=\"dataframe\">\n",
       "  <thead>\n",
       "    <tr style=\"text-align: right;\">\n",
       "      <th></th>\n",
       "      <th>PATIENT_ID</th>\n",
       "      <th>SAMPLE_ID</th>\n",
       "      <th>CANCER_TYPE</th>\n",
       "      <th>SAMPLE_TYPE</th>\n",
       "      <th>SAMPLE_CLASS</th>\n",
       "      <th>METASTATIC_SITE</th>\n",
       "      <th>PRIMARY_SITE</th>\n",
       "      <th>CANCER_TYPE_DETAILED</th>\n",
       "      <th>GENE_PANEL</th>\n",
       "      <th>SAMPLE_COVERAGE</th>\n",
       "      <th>TUMOR_PURITY</th>\n",
       "      <th>ONCOTREE_CODE</th>\n",
       "      <th>INSTITUTE</th>\n",
       "      <th>SOMATIC_STATUS</th>\n",
       "      <th>AGE_AT_SEQ_REPORT</th>\n",
       "    </tr>\n",
       "  </thead>\n",
       "  <tbody>\n",
       "    <tr>\n",
       "      <th>0</th>\n",
       "      <td>P-0000057</td>\n",
       "      <td>P-0000057-T01-IM3</td>\n",
       "      <td>Breast Cancer</td>\n",
       "      <td>Primary</td>\n",
       "      <td>Tumor</td>\n",
       "      <td>Not Applicable</td>\n",
       "      <td>Breast</td>\n",
       "      <td>Breast Mixed Ductal and Lobular Carcinoma</td>\n",
       "      <td>IMPACT341</td>\n",
       "      <td>835</td>\n",
       "      <td>25</td>\n",
       "      <td>MDLC</td>\n",
       "      <td>MSKCC</td>\n",
       "      <td>Matched</td>\n",
       "      <td>41.0</td>\n",
       "    </tr>\n",
       "    <tr>\n",
       "      <th>1</th>\n",
       "      <td>P-0000062</td>\n",
       "      <td>P-0000062-T01-IM3</td>\n",
       "      <td>Esophagogastric Cancer</td>\n",
       "      <td>Primary</td>\n",
       "      <td>Tumor</td>\n",
       "      <td>Not Applicable</td>\n",
       "      <td>Esophagus</td>\n",
       "      <td>Adenocarcinoma of the Gastroesophageal Junction</td>\n",
       "      <td>IMPACT341</td>\n",
       "      <td>1176</td>\n",
       "      <td>30</td>\n",
       "      <td>GEJ</td>\n",
       "      <td>MSKCC</td>\n",
       "      <td>Matched</td>\n",
       "      <td>80.0</td>\n",
       "    </tr>\n",
       "    <tr>\n",
       "      <th>2</th>\n",
       "      <td>P-0000063</td>\n",
       "      <td>P-0000063-T01-IM3</td>\n",
       "      <td>Bladder Cancer</td>\n",
       "      <td>Primary</td>\n",
       "      <td>Tumor</td>\n",
       "      <td>Not Applicable</td>\n",
       "      <td>Bladder</td>\n",
       "      <td>Bladder Urothelial Carcinoma</td>\n",
       "      <td>IMPACT341</td>\n",
       "      <td>900</td>\n",
       "      <td>70</td>\n",
       "      <td>BLCA</td>\n",
       "      <td>MSKCC</td>\n",
       "      <td>Matched</td>\n",
       "      <td>62.0</td>\n",
       "    </tr>\n",
       "    <tr>\n",
       "      <th>3</th>\n",
       "      <td>P-0000071</td>\n",
       "      <td>P-0000071-T01-IM3</td>\n",
       "      <td>Bladder Cancer</td>\n",
       "      <td>Primary</td>\n",
       "      <td>Tumor</td>\n",
       "      <td>Not Applicable</td>\n",
       "      <td>Bladder</td>\n",
       "      <td>Bladder Urothelial Carcinoma</td>\n",
       "      <td>IMPACT341</td>\n",
       "      <td>795</td>\n",
       "      <td>30</td>\n",
       "      <td>BLCA</td>\n",
       "      <td>MSKCC</td>\n",
       "      <td>Matched</td>\n",
       "      <td>66.0</td>\n",
       "    </tr>\n",
       "    <tr>\n",
       "      <th>4</th>\n",
       "      <td>P-0000082</td>\n",
       "      <td>P-0000082-T01-IM3</td>\n",
       "      <td>Non-Small Cell Lung Cancer</td>\n",
       "      <td>Primary</td>\n",
       "      <td>Tumor</td>\n",
       "      <td>Not Applicable</td>\n",
       "      <td>Lung</td>\n",
       "      <td>Lung Adenocarcinoma</td>\n",
       "      <td>IMPACT341</td>\n",
       "      <td>905</td>\n",
       "      <td>NaN</td>\n",
       "      <td>LUAD</td>\n",
       "      <td>MSKCC</td>\n",
       "      <td>Matched</td>\n",
       "      <td>61.0</td>\n",
       "    </tr>\n",
       "  </tbody>\n",
       "</table>\n",
       "</div>"
      ],
      "text/plain": [
       "  PATIENT_ID          SAMPLE_ID                 CANCER_TYPE SAMPLE_TYPE  \\\n",
       "0  P-0000057  P-0000057-T01-IM3               Breast Cancer     Primary   \n",
       "1  P-0000062  P-0000062-T01-IM3      Esophagogastric Cancer     Primary   \n",
       "2  P-0000063  P-0000063-T01-IM3              Bladder Cancer     Primary   \n",
       "3  P-0000071  P-0000071-T01-IM3              Bladder Cancer     Primary   \n",
       "4  P-0000082  P-0000082-T01-IM3  Non-Small Cell Lung Cancer     Primary   \n",
       "\n",
       "  SAMPLE_CLASS METASTATIC_SITE PRIMARY_SITE  \\\n",
       "0        Tumor  Not Applicable       Breast   \n",
       "1        Tumor  Not Applicable    Esophagus   \n",
       "2        Tumor  Not Applicable      Bladder   \n",
       "3        Tumor  Not Applicable      Bladder   \n",
       "4        Tumor  Not Applicable         Lung   \n",
       "\n",
       "                              CANCER_TYPE_DETAILED GENE_PANEL  \\\n",
       "0        Breast Mixed Ductal and Lobular Carcinoma  IMPACT341   \n",
       "1  Adenocarcinoma of the Gastroesophageal Junction  IMPACT341   \n",
       "2                     Bladder Urothelial Carcinoma  IMPACT341   \n",
       "3                     Bladder Urothelial Carcinoma  IMPACT341   \n",
       "4                              Lung Adenocarcinoma  IMPACT341   \n",
       "\n",
       "   SAMPLE_COVERAGE TUMOR_PURITY ONCOTREE_CODE INSTITUTE SOMATIC_STATUS  \\\n",
       "0              835           25          MDLC     MSKCC        Matched   \n",
       "1             1176           30           GEJ     MSKCC        Matched   \n",
       "2              900           70          BLCA     MSKCC        Matched   \n",
       "3              795           30          BLCA     MSKCC        Matched   \n",
       "4              905          NaN          LUAD     MSKCC        Matched   \n",
       "\n",
       "   AGE_AT_SEQ_REPORT  \n",
       "0               41.0  \n",
       "1               80.0  \n",
       "2               62.0  \n",
       "3               66.0  \n",
       "4               61.0  "
      ]
     },
     "execution_count": 16,
     "metadata": {},
     "output_type": "execute_result"
    }
   ],
   "source": [
    "df_sam_clin.head()"
   ]
  },
  {
   "cell_type": "code",
   "execution_count": 17,
   "metadata": {},
   "outputs": [
    {
     "data": {
      "text/plain": [
       "Index(['PATIENT_ID', 'SAMPLE_ID', 'CANCER_TYPE', 'SAMPLE_TYPE', 'SAMPLE_CLASS',\n",
       "       'METASTATIC_SITE', 'PRIMARY_SITE', 'CANCER_TYPE_DETAILED', 'GENE_PANEL',\n",
       "       'SAMPLE_COVERAGE', 'TUMOR_PURITY', 'ONCOTREE_CODE', 'INSTITUTE',\n",
       "       'SOMATIC_STATUS', 'AGE_AT_SEQ_REPORT'],\n",
       "      dtype='object')"
      ]
     },
     "execution_count": 17,
     "metadata": {},
     "output_type": "execute_result"
    }
   ],
   "source": [
    "df_sam_clin.columns"
   ]
  },
  {
   "cell_type": "code",
   "execution_count": 18,
   "metadata": {},
   "outputs": [
    {
     "data": {
      "text/plain": [
       "Non-Small Cell Lung Cancer    350\n",
       "Melanoma                      320\n",
       "Bladder Cancer                215\n",
       "Renal Cell Carcinoma          151\n",
       "Head and Neck Cancer          139\n",
       "Esophagogastric Cancer        126\n",
       "Glioma                        117\n",
       "Colorectal Cancer             110\n",
       "Cancer of Unknown Primary      88\n",
       "Breast Cancer                  44\n",
       "Skin Cancer, Non-Melanoma       1\n",
       "Name: CANCER_TYPE, dtype: int64"
      ]
     },
     "execution_count": 18,
     "metadata": {},
     "output_type": "execute_result"
    }
   ],
   "source": [
    "df_sam_clin['CANCER_TYPE'].value_counts()"
   ]
  },
  {
   "cell_type": "code",
   "execution_count": 20,
   "metadata": {},
   "outputs": [
    {
     "data": {
      "text/plain": [
       "Lung Adenocarcinoma                                 271\n",
       "Lung Squamous Cell Carcinoma                         45\n",
       "Poorly Differentiated Non-Small Cell Lung Cancer     13\n",
       "Large Cell Neuroendocrine Carcinoma                   8\n",
       "Non-Small Cell Lung Cancer                            8\n",
       "Lung Adenosquamous Carcinoma                          2\n",
       "Sarcomatoid Carcinoma of the Lung                     2\n",
       "Pleomorphic Carcinoma of the Lung                     1\n",
       "Name: CANCER_TYPE_DETAILED, dtype: int64"
      ]
     },
     "execution_count": 20,
     "metadata": {},
     "output_type": "execute_result"
    }
   ],
   "source": [
    "df_sam_clin[df_sam_clin['CANCER_TYPE']=='Non-Small Cell Lung Cancer']['CANCER_TYPE_DETAILED'].value_counts()"
   ]
  },
  {
   "cell_type": "code",
   "execution_count": 19,
   "metadata": {},
   "outputs": [],
   "source": [
    "cancer_type_dict = df_sam_clin[['PATIENT_ID', 'CANCER_TYPE']].set_index('PATIENT_ID').to_dict()['CANCER_TYPE']"
   ]
  },
  {
   "cell_type": "code",
   "execution_count": 22,
   "metadata": {},
   "outputs": [],
   "source": [
    "df_sam_clin1 = df_sam_clin[df_sam_clin['CANCER_TYPE_DETAILED']=='Lung Adenocarcinoma']"
   ]
  },
  {
   "cell_type": "code",
   "execution_count": 23,
   "metadata": {},
   "outputs": [
    {
     "data": {
      "text/html": [
       "<div>\n",
       "<style scoped>\n",
       "    .dataframe tbody tr th:only-of-type {\n",
       "        vertical-align: middle;\n",
       "    }\n",
       "\n",
       "    .dataframe tbody tr th {\n",
       "        vertical-align: top;\n",
       "    }\n",
       "\n",
       "    .dataframe thead th {\n",
       "        text-align: right;\n",
       "    }\n",
       "</style>\n",
       "<table border=\"1\" class=\"dataframe\">\n",
       "  <thead>\n",
       "    <tr style=\"text-align: right;\">\n",
       "      <th></th>\n",
       "      <th>PATIENT_ID</th>\n",
       "      <th>SAMPLE_ID</th>\n",
       "      <th>CANCER_TYPE</th>\n",
       "      <th>SAMPLE_TYPE</th>\n",
       "      <th>SAMPLE_CLASS</th>\n",
       "      <th>METASTATIC_SITE</th>\n",
       "      <th>PRIMARY_SITE</th>\n",
       "      <th>CANCER_TYPE_DETAILED</th>\n",
       "      <th>GENE_PANEL</th>\n",
       "      <th>SAMPLE_COVERAGE</th>\n",
       "      <th>TUMOR_PURITY</th>\n",
       "      <th>ONCOTREE_CODE</th>\n",
       "      <th>INSTITUTE</th>\n",
       "      <th>SOMATIC_STATUS</th>\n",
       "      <th>AGE_AT_SEQ_REPORT</th>\n",
       "    </tr>\n",
       "  </thead>\n",
       "  <tbody>\n",
       "    <tr>\n",
       "      <td>4</td>\n",
       "      <td>P-0000082</td>\n",
       "      <td>P-0000082-T01-IM3</td>\n",
       "      <td>Non-Small Cell Lung Cancer</td>\n",
       "      <td>Primary</td>\n",
       "      <td>Tumor</td>\n",
       "      <td>Not Applicable</td>\n",
       "      <td>Lung</td>\n",
       "      <td>Lung Adenocarcinoma</td>\n",
       "      <td>IMPACT341</td>\n",
       "      <td>905</td>\n",
       "      <td>NaN</td>\n",
       "      <td>LUAD</td>\n",
       "      <td>MSKCC</td>\n",
       "      <td>Matched</td>\n",
       "      <td>61.0</td>\n",
       "    </tr>\n",
       "    <tr>\n",
       "      <td>8</td>\n",
       "      <td>P-0000165</td>\n",
       "      <td>P-0000165-T01-IM3</td>\n",
       "      <td>Non-Small Cell Lung Cancer</td>\n",
       "      <td>Primary</td>\n",
       "      <td>Tumor</td>\n",
       "      <td>Not Applicable</td>\n",
       "      <td>Lung</td>\n",
       "      <td>Lung Adenocarcinoma</td>\n",
       "      <td>IMPACT341</td>\n",
       "      <td>795</td>\n",
       "      <td>40</td>\n",
       "      <td>LUAD</td>\n",
       "      <td>MSKCC</td>\n",
       "      <td>Unmatched</td>\n",
       "      <td>67.0</td>\n",
       "    </tr>\n",
       "    <tr>\n",
       "      <td>10</td>\n",
       "      <td>P-0000205</td>\n",
       "      <td>P-0000205-T01-IM3</td>\n",
       "      <td>Non-Small Cell Lung Cancer</td>\n",
       "      <td>Metastasis</td>\n",
       "      <td>Tumor</td>\n",
       "      <td>Liver</td>\n",
       "      <td>Lung</td>\n",
       "      <td>Lung Adenocarcinoma</td>\n",
       "      <td>IMPACT341</td>\n",
       "      <td>1214</td>\n",
       "      <td>90</td>\n",
       "      <td>LUAD</td>\n",
       "      <td>MSKCC</td>\n",
       "      <td>Unmatched</td>\n",
       "      <td>56.0</td>\n",
       "    </tr>\n",
       "    <tr>\n",
       "      <td>11</td>\n",
       "      <td>P-0000208</td>\n",
       "      <td>P-0000208-T01-IM3</td>\n",
       "      <td>Non-Small Cell Lung Cancer</td>\n",
       "      <td>Primary</td>\n",
       "      <td>Tumor</td>\n",
       "      <td>Not Applicable</td>\n",
       "      <td>Lung</td>\n",
       "      <td>Lung Adenocarcinoma</td>\n",
       "      <td>IMPACT410</td>\n",
       "      <td>1346</td>\n",
       "      <td>70</td>\n",
       "      <td>LUAD</td>\n",
       "      <td>MSKCC</td>\n",
       "      <td>Matched</td>\n",
       "      <td>69.0</td>\n",
       "    </tr>\n",
       "    <tr>\n",
       "      <td>30</td>\n",
       "      <td>P-0000458</td>\n",
       "      <td>P-0000458-T01-IM3</td>\n",
       "      <td>Non-Small Cell Lung Cancer</td>\n",
       "      <td>Primary</td>\n",
       "      <td>Tumor</td>\n",
       "      <td>Not Applicable</td>\n",
       "      <td>Lung</td>\n",
       "      <td>Lung Adenocarcinoma</td>\n",
       "      <td>IMPACT341</td>\n",
       "      <td>1201</td>\n",
       "      <td>20</td>\n",
       "      <td>LUAD</td>\n",
       "      <td>MSKCC</td>\n",
       "      <td>Matched</td>\n",
       "      <td>66.0</td>\n",
       "    </tr>\n",
       "  </tbody>\n",
       "</table>\n",
       "</div>"
      ],
      "text/plain": [
       "   PATIENT_ID          SAMPLE_ID                 CANCER_TYPE SAMPLE_TYPE  \\\n",
       "4   P-0000082  P-0000082-T01-IM3  Non-Small Cell Lung Cancer     Primary   \n",
       "8   P-0000165  P-0000165-T01-IM3  Non-Small Cell Lung Cancer     Primary   \n",
       "10  P-0000205  P-0000205-T01-IM3  Non-Small Cell Lung Cancer  Metastasis   \n",
       "11  P-0000208  P-0000208-T01-IM3  Non-Small Cell Lung Cancer     Primary   \n",
       "30  P-0000458  P-0000458-T01-IM3  Non-Small Cell Lung Cancer     Primary   \n",
       "\n",
       "   SAMPLE_CLASS METASTATIC_SITE PRIMARY_SITE CANCER_TYPE_DETAILED GENE_PANEL  \\\n",
       "4         Tumor  Not Applicable         Lung  Lung Adenocarcinoma  IMPACT341   \n",
       "8         Tumor  Not Applicable         Lung  Lung Adenocarcinoma  IMPACT341   \n",
       "10        Tumor           Liver         Lung  Lung Adenocarcinoma  IMPACT341   \n",
       "11        Tumor  Not Applicable         Lung  Lung Adenocarcinoma  IMPACT410   \n",
       "30        Tumor  Not Applicable         Lung  Lung Adenocarcinoma  IMPACT341   \n",
       "\n",
       "    SAMPLE_COVERAGE TUMOR_PURITY ONCOTREE_CODE INSTITUTE SOMATIC_STATUS  \\\n",
       "4               905          NaN          LUAD     MSKCC        Matched   \n",
       "8               795           40          LUAD     MSKCC      Unmatched   \n",
       "10             1214           90          LUAD     MSKCC      Unmatched   \n",
       "11             1346           70          LUAD     MSKCC        Matched   \n",
       "30             1201           20          LUAD     MSKCC        Matched   \n",
       "\n",
       "    AGE_AT_SEQ_REPORT  \n",
       "4                61.0  \n",
       "8                67.0  \n",
       "10               56.0  \n",
       "11               69.0  \n",
       "30               66.0  "
      ]
     },
     "execution_count": 23,
     "metadata": {},
     "output_type": "execute_result"
    }
   ],
   "source": [
    "df_sam_clin1.head()"
   ]
  },
  {
   "cell_type": "code",
   "execution_count": 24,
   "metadata": {},
   "outputs": [
    {
     "data": {
      "text/plain": [
       "Lung Adenocarcinoma    271\n",
       "Name: CANCER_TYPE_DETAILED, dtype: int64"
      ]
     },
     "execution_count": 24,
     "metadata": {},
     "output_type": "execute_result"
    }
   ],
   "source": [
    "df_sam_clin1['CANCER_TYPE_DETAILED'].value_counts()"
   ]
  },
  {
   "cell_type": "code",
   "execution_count": 25,
   "metadata": {},
   "outputs": [
    {
     "data": {
      "text/plain": [
       "Metastasis    142\n",
       "Primary       129\n",
       "Name: SAMPLE_TYPE, dtype: int64"
      ]
     },
     "execution_count": 25,
     "metadata": {},
     "output_type": "execute_result"
    }
   ],
   "source": [
    "df_sam_clin1['SAMPLE_TYPE'].value_counts()"
   ]
  },
  {
   "cell_type": "code",
   "execution_count": 26,
   "metadata": {},
   "outputs": [],
   "source": [
    "patient_id_dict = df_sam_clin[['SAMPLE_ID', 'PATIENT_ID']].set_index('SAMPLE_ID').to_dict()['PATIENT_ID']"
   ]
  },
  {
   "cell_type": "code",
   "execution_count": 27,
   "metadata": {},
   "outputs": [],
   "source": [
    "ptid_lung_cancer = df_sam_clin1['PATIENT_ID'].unique()"
   ]
  },
  {
   "cell_type": "code",
   "execution_count": 28,
   "metadata": {},
   "outputs": [
    {
     "data": {
      "text/html": [
       "<div>\n",
       "<style scoped>\n",
       "    .dataframe tbody tr th:only-of-type {\n",
       "        vertical-align: middle;\n",
       "    }\n",
       "\n",
       "    .dataframe tbody tr th {\n",
       "        vertical-align: top;\n",
       "    }\n",
       "\n",
       "    .dataframe thead th {\n",
       "        text-align: right;\n",
       "    }\n",
       "</style>\n",
       "<table border=\"1\" class=\"dataframe\">\n",
       "  <thead>\n",
       "    <tr style=\"text-align: right;\">\n",
       "      <th></th>\n",
       "      <th>Hugo_Symbol</th>\n",
       "      <th>Entrez_Gene_Id</th>\n",
       "      <th>Center</th>\n",
       "      <th>NCBI_Build</th>\n",
       "      <th>Chromosome</th>\n",
       "      <th>Start_Position</th>\n",
       "      <th>End_Position</th>\n",
       "      <th>Strand</th>\n",
       "      <th>Consequence</th>\n",
       "      <th>Variant_Classification</th>\n",
       "      <th>...</th>\n",
       "      <th>VARIANT_CLASS</th>\n",
       "      <th>all_effects</th>\n",
       "      <th>amino_acid_change</th>\n",
       "      <th>cDNA_Change</th>\n",
       "      <th>cDNA_position</th>\n",
       "      <th>cdna_change</th>\n",
       "      <th>comments</th>\n",
       "      <th>n_depth</th>\n",
       "      <th>t_depth</th>\n",
       "      <th>transcript</th>\n",
       "    </tr>\n",
       "  </thead>\n",
       "  <tbody>\n",
       "    <tr>\n",
       "      <td>0</td>\n",
       "      <td>PIK3CB</td>\n",
       "      <td>5291.0</td>\n",
       "      <td>MSKCC</td>\n",
       "      <td>GRCh37</td>\n",
       "      <td>3</td>\n",
       "      <td>138374293</td>\n",
       "      <td>138374293</td>\n",
       "      <td>+</td>\n",
       "      <td>missense_variant</td>\n",
       "      <td>Missense_Mutation</td>\n",
       "      <td>...</td>\n",
       "      <td>NaN</td>\n",
       "      <td>NaN</td>\n",
       "      <td>NaN</td>\n",
       "      <td>NaN</td>\n",
       "      <td>NaN</td>\n",
       "      <td>NaN</td>\n",
       "      <td>NaN</td>\n",
       "      <td>NaN</td>\n",
       "      <td>NaN</td>\n",
       "      <td>NaN</td>\n",
       "    </tr>\n",
       "    <tr>\n",
       "      <td>1</td>\n",
       "      <td>TP53</td>\n",
       "      <td>7157.0</td>\n",
       "      <td>MSKCC</td>\n",
       "      <td>GRCh37</td>\n",
       "      <td>17</td>\n",
       "      <td>7577539</td>\n",
       "      <td>7577539</td>\n",
       "      <td>+</td>\n",
       "      <td>missense_variant</td>\n",
       "      <td>Missense_Mutation</td>\n",
       "      <td>...</td>\n",
       "      <td>NaN</td>\n",
       "      <td>NaN</td>\n",
       "      <td>NaN</td>\n",
       "      <td>NaN</td>\n",
       "      <td>NaN</td>\n",
       "      <td>NaN</td>\n",
       "      <td>NaN</td>\n",
       "      <td>NaN</td>\n",
       "      <td>NaN</td>\n",
       "      <td>NaN</td>\n",
       "    </tr>\n",
       "    <tr>\n",
       "      <td>2</td>\n",
       "      <td>TP53</td>\n",
       "      <td>7157.0</td>\n",
       "      <td>MSKCC</td>\n",
       "      <td>GRCh37</td>\n",
       "      <td>17</td>\n",
       "      <td>7577099</td>\n",
       "      <td>7577099</td>\n",
       "      <td>+</td>\n",
       "      <td>missense_variant</td>\n",
       "      <td>Missense_Mutation</td>\n",
       "      <td>...</td>\n",
       "      <td>NaN</td>\n",
       "      <td>NaN</td>\n",
       "      <td>NaN</td>\n",
       "      <td>NaN</td>\n",
       "      <td>NaN</td>\n",
       "      <td>NaN</td>\n",
       "      <td>NaN</td>\n",
       "      <td>NaN</td>\n",
       "      <td>NaN</td>\n",
       "      <td>NaN</td>\n",
       "    </tr>\n",
       "    <tr>\n",
       "      <td>3</td>\n",
       "      <td>PIK3C2G</td>\n",
       "      <td>5288.0</td>\n",
       "      <td>MSKCC</td>\n",
       "      <td>GRCh37</td>\n",
       "      <td>12</td>\n",
       "      <td>18435667</td>\n",
       "      <td>18435667</td>\n",
       "      <td>+</td>\n",
       "      <td>missense_variant</td>\n",
       "      <td>Missense_Mutation</td>\n",
       "      <td>...</td>\n",
       "      <td>NaN</td>\n",
       "      <td>NaN</td>\n",
       "      <td>NaN</td>\n",
       "      <td>NaN</td>\n",
       "      <td>NaN</td>\n",
       "      <td>NaN</td>\n",
       "      <td>NaN</td>\n",
       "      <td>NaN</td>\n",
       "      <td>NaN</td>\n",
       "      <td>NaN</td>\n",
       "    </tr>\n",
       "    <tr>\n",
       "      <td>4</td>\n",
       "      <td>AXIN1</td>\n",
       "      <td>8312.0</td>\n",
       "      <td>MSKCC</td>\n",
       "      <td>GRCh37</td>\n",
       "      <td>16</td>\n",
       "      <td>347756</td>\n",
       "      <td>347756</td>\n",
       "      <td>+</td>\n",
       "      <td>missense_variant</td>\n",
       "      <td>Missense_Mutation</td>\n",
       "      <td>...</td>\n",
       "      <td>NaN</td>\n",
       "      <td>NaN</td>\n",
       "      <td>NaN</td>\n",
       "      <td>NaN</td>\n",
       "      <td>NaN</td>\n",
       "      <td>NaN</td>\n",
       "      <td>NaN</td>\n",
       "      <td>NaN</td>\n",
       "      <td>NaN</td>\n",
       "      <td>NaN</td>\n",
       "    </tr>\n",
       "  </tbody>\n",
       "</table>\n",
       "<p>5 rows × 120 columns</p>\n",
       "</div>"
      ],
      "text/plain": [
       "  Hugo_Symbol  Entrez_Gene_Id Center NCBI_Build Chromosome  Start_Position  \\\n",
       "0      PIK3CB          5291.0  MSKCC     GRCh37          3       138374293   \n",
       "1        TP53          7157.0  MSKCC     GRCh37         17         7577539   \n",
       "2        TP53          7157.0  MSKCC     GRCh37         17         7577099   \n",
       "3     PIK3C2G          5288.0  MSKCC     GRCh37         12        18435667   \n",
       "4       AXIN1          8312.0  MSKCC     GRCh37         16          347756   \n",
       "\n",
       "   End_Position Strand       Consequence Variant_Classification  ...  \\\n",
       "0     138374293      +  missense_variant      Missense_Mutation  ...   \n",
       "1       7577539      +  missense_variant      Missense_Mutation  ...   \n",
       "2       7577099      +  missense_variant      Missense_Mutation  ...   \n",
       "3      18435667      +  missense_variant      Missense_Mutation  ...   \n",
       "4        347756      +  missense_variant      Missense_Mutation  ...   \n",
       "\n",
       "  VARIANT_CLASS all_effects amino_acid_change cDNA_Change cDNA_position  \\\n",
       "0           NaN         NaN               NaN         NaN           NaN   \n",
       "1           NaN         NaN               NaN         NaN           NaN   \n",
       "2           NaN         NaN               NaN         NaN           NaN   \n",
       "3           NaN         NaN               NaN         NaN           NaN   \n",
       "4           NaN         NaN               NaN         NaN           NaN   \n",
       "\n",
       "   cdna_change comments  n_depth  t_depth  transcript  \n",
       "0          NaN      NaN      NaN      NaN         NaN  \n",
       "1          NaN      NaN      NaN      NaN         NaN  \n",
       "2          NaN      NaN      NaN      NaN         NaN  \n",
       "3          NaN      NaN      NaN      NaN         NaN  \n",
       "4          NaN      NaN      NaN      NaN         NaN  \n",
       "\n",
       "[5 rows x 120 columns]"
      ]
     },
     "execution_count": 28,
     "metadata": {},
     "output_type": "execute_result"
    }
   ],
   "source": [
    "df_sam_mut.head()"
   ]
  },
  {
   "cell_type": "code",
   "execution_count": 29,
   "metadata": {},
   "outputs": [],
   "source": [
    "df_sam_mut1 = df_sam_mut[['Hugo_Symbol',  'NCBI_Build', 'Chromosome',\n",
    "       'Start_Position', 'End_Position', 'Strand', 'Variant_Classification',\n",
    "       'Variant_Type', 'Reference_Allele', 'Tumor_Seq_Allele1',\n",
    "       'Tumor_Seq_Allele2', 'Tumor_Sample_Barcode', 'HGVSp_Short',\n",
    "        'Protein_position', 'Codons', 't_ref_count', 't_alt_count']]"
   ]
  },
  {
   "cell_type": "code",
   "execution_count": 30,
   "metadata": {},
   "outputs": [],
   "source": [
    "df_sam_mut2 = df_sam_mut1.dropna(subset=['Codons'])"
   ]
  },
  {
   "cell_type": "code",
   "execution_count": 31,
   "metadata": {},
   "outputs": [],
   "source": [
    "df_sam_mut3 = df_sam_mut1[~(df_sam_mut1['Variant_Classification']=='Silent')]"
   ]
  },
  {
   "cell_type": "code",
   "execution_count": 32,
   "metadata": {},
   "outputs": [
    {
     "data": {
      "text/html": [
       "<div>\n",
       "<style scoped>\n",
       "    .dataframe tbody tr th:only-of-type {\n",
       "        vertical-align: middle;\n",
       "    }\n",
       "\n",
       "    .dataframe tbody tr th {\n",
       "        vertical-align: top;\n",
       "    }\n",
       "\n",
       "    .dataframe thead th {\n",
       "        text-align: right;\n",
       "    }\n",
       "</style>\n",
       "<table border=\"1\" class=\"dataframe\">\n",
       "  <thead>\n",
       "    <tr style=\"text-align: right;\">\n",
       "      <th></th>\n",
       "      <th>Hugo_Symbol</th>\n",
       "      <th>NCBI_Build</th>\n",
       "      <th>Chromosome</th>\n",
       "      <th>Start_Position</th>\n",
       "      <th>End_Position</th>\n",
       "      <th>Strand</th>\n",
       "      <th>Variant_Classification</th>\n",
       "      <th>Variant_Type</th>\n",
       "      <th>Reference_Allele</th>\n",
       "      <th>Tumor_Seq_Allele1</th>\n",
       "      <th>Tumor_Seq_Allele2</th>\n",
       "      <th>Tumor_Sample_Barcode</th>\n",
       "      <th>HGVSp_Short</th>\n",
       "      <th>Protein_position</th>\n",
       "      <th>Codons</th>\n",
       "      <th>t_ref_count</th>\n",
       "      <th>t_alt_count</th>\n",
       "    </tr>\n",
       "  </thead>\n",
       "  <tbody>\n",
       "    <tr>\n",
       "      <td>0</td>\n",
       "      <td>PIK3CB</td>\n",
       "      <td>GRCh37</td>\n",
       "      <td>3</td>\n",
       "      <td>138374293</td>\n",
       "      <td>138374293</td>\n",
       "      <td>+</td>\n",
       "      <td>Missense_Mutation</td>\n",
       "      <td>SNP</td>\n",
       "      <td>C</td>\n",
       "      <td>C</td>\n",
       "      <td>T</td>\n",
       "      <td>P-0024731-T01-IM6</td>\n",
       "      <td>p.E1051K</td>\n",
       "      <td>1051.0</td>\n",
       "      <td>Gaa/Aaa</td>\n",
       "      <td>158</td>\n",
       "      <td>181</td>\n",
       "    </tr>\n",
       "    <tr>\n",
       "      <td>1</td>\n",
       "      <td>TP53</td>\n",
       "      <td>GRCh37</td>\n",
       "      <td>17</td>\n",
       "      <td>7577539</td>\n",
       "      <td>7577539</td>\n",
       "      <td>+</td>\n",
       "      <td>Missense_Mutation</td>\n",
       "      <td>SNP</td>\n",
       "      <td>G</td>\n",
       "      <td>G</td>\n",
       "      <td>A</td>\n",
       "      <td>P-0024731-T01-IM6</td>\n",
       "      <td>p.R248W</td>\n",
       "      <td>248.0</td>\n",
       "      <td>Cgg/Tgg</td>\n",
       "      <td>126</td>\n",
       "      <td>61</td>\n",
       "    </tr>\n",
       "    <tr>\n",
       "      <td>2</td>\n",
       "      <td>TP53</td>\n",
       "      <td>GRCh37</td>\n",
       "      <td>17</td>\n",
       "      <td>7577099</td>\n",
       "      <td>7577099</td>\n",
       "      <td>+</td>\n",
       "      <td>Missense_Mutation</td>\n",
       "      <td>SNP</td>\n",
       "      <td>C</td>\n",
       "      <td>C</td>\n",
       "      <td>T</td>\n",
       "      <td>P-0024731-T01-IM6</td>\n",
       "      <td>p.R280K</td>\n",
       "      <td>280.0</td>\n",
       "      <td>aGa/aAa</td>\n",
       "      <td>170</td>\n",
       "      <td>118</td>\n",
       "    </tr>\n",
       "    <tr>\n",
       "      <td>3</td>\n",
       "      <td>PIK3C2G</td>\n",
       "      <td>GRCh37</td>\n",
       "      <td>12</td>\n",
       "      <td>18435667</td>\n",
       "      <td>18435667</td>\n",
       "      <td>+</td>\n",
       "      <td>Missense_Mutation</td>\n",
       "      <td>SNP</td>\n",
       "      <td>G</td>\n",
       "      <td>G</td>\n",
       "      <td>A</td>\n",
       "      <td>P-0024731-T01-IM6</td>\n",
       "      <td>p.E218K</td>\n",
       "      <td>218.0</td>\n",
       "      <td>Gaa/Aaa</td>\n",
       "      <td>91</td>\n",
       "      <td>54</td>\n",
       "    </tr>\n",
       "    <tr>\n",
       "      <td>4</td>\n",
       "      <td>AXIN1</td>\n",
       "      <td>GRCh37</td>\n",
       "      <td>16</td>\n",
       "      <td>347756</td>\n",
       "      <td>347756</td>\n",
       "      <td>+</td>\n",
       "      <td>Missense_Mutation</td>\n",
       "      <td>SNP</td>\n",
       "      <td>C</td>\n",
       "      <td>C</td>\n",
       "      <td>T</td>\n",
       "      <td>P-0024731-T01-IM6</td>\n",
       "      <td>p.A584T</td>\n",
       "      <td>584.0</td>\n",
       "      <td>Gct/Act</td>\n",
       "      <td>124</td>\n",
       "      <td>26</td>\n",
       "    </tr>\n",
       "  </tbody>\n",
       "</table>\n",
       "</div>"
      ],
      "text/plain": [
       "  Hugo_Symbol NCBI_Build Chromosome  Start_Position  End_Position Strand  \\\n",
       "0      PIK3CB     GRCh37          3       138374293     138374293      +   \n",
       "1        TP53     GRCh37         17         7577539       7577539      +   \n",
       "2        TP53     GRCh37         17         7577099       7577099      +   \n",
       "3     PIK3C2G     GRCh37         12        18435667      18435667      +   \n",
       "4       AXIN1     GRCh37         16          347756        347756      +   \n",
       "\n",
       "  Variant_Classification Variant_Type Reference_Allele Tumor_Seq_Allele1  \\\n",
       "0      Missense_Mutation          SNP                C                 C   \n",
       "1      Missense_Mutation          SNP                G                 G   \n",
       "2      Missense_Mutation          SNP                C                 C   \n",
       "3      Missense_Mutation          SNP                G                 G   \n",
       "4      Missense_Mutation          SNP                C                 C   \n",
       "\n",
       "  Tumor_Seq_Allele2 Tumor_Sample_Barcode HGVSp_Short  Protein_position  \\\n",
       "0                 T    P-0024731-T01-IM6    p.E1051K            1051.0   \n",
       "1                 A    P-0024731-T01-IM6     p.R248W             248.0   \n",
       "2                 T    P-0024731-T01-IM6     p.R280K             280.0   \n",
       "3                 A    P-0024731-T01-IM6     p.E218K             218.0   \n",
       "4                 T    P-0024731-T01-IM6     p.A584T             584.0   \n",
       "\n",
       "    Codons  t_ref_count  t_alt_count  \n",
       "0  Gaa/Aaa          158          181  \n",
       "1  Cgg/Tgg          126           61  \n",
       "2  aGa/aAa          170          118  \n",
       "3  Gaa/Aaa           91           54  \n",
       "4  Gct/Act          124           26  "
      ]
     },
     "execution_count": 32,
     "metadata": {},
     "output_type": "execute_result"
    }
   ],
   "source": [
    "df_sam_mut3.head()"
   ]
  },
  {
   "cell_type": "code",
   "execution_count": 33,
   "metadata": {},
   "outputs": [],
   "source": [
    "def get_patient_ids(tumor_sample_barcode):\n",
    "    try:\n",
    "        ptid=patient_id_dict[tumor_sample_barcode]\n",
    "    except:\n",
    "        ptid=np.nan\n",
    "    return ptid"
   ]
  },
  {
   "cell_type": "code",
   "execution_count": 34,
   "metadata": {},
   "outputs": [
    {
     "name": "stderr",
     "output_type": "stream",
     "text": [
      "/home/adnan/anaconda3/lib/python3.7/site-packages/ipykernel_launcher.py:1: SettingWithCopyWarning: \n",
      "A value is trying to be set on a copy of a slice from a DataFrame.\n",
      "Try using .loc[row_indexer,col_indexer] = value instead\n",
      "\n",
      "See the caveats in the documentation: http://pandas.pydata.org/pandas-docs/stable/user_guide/indexing.html#returning-a-view-versus-a-copy\n",
      "  \"\"\"Entry point for launching an IPython kernel.\n"
     ]
    }
   ],
   "source": [
    "df_sam_mut3['PATIENT_ID'] = df_sam_mut3['Tumor_Sample_Barcode'].map(lambda x: get_patient_ids(x))"
   ]
  },
  {
   "cell_type": "code",
   "execution_count": 35,
   "metadata": {},
   "outputs": [],
   "source": [
    "df_sam_mut4 = df_sam_mut3[df_sam_mut3['PATIENT_ID'].isin(ptid_lung_cancer)]\n",
    "#df_sam_mut4 = df_sam_mut3"
   ]
  },
  {
   "cell_type": "code",
   "execution_count": 36,
   "metadata": {},
   "outputs": [
    {
     "data": {
      "text/html": [
       "<div>\n",
       "<style scoped>\n",
       "    .dataframe tbody tr th:only-of-type {\n",
       "        vertical-align: middle;\n",
       "    }\n",
       "\n",
       "    .dataframe tbody tr th {\n",
       "        vertical-align: top;\n",
       "    }\n",
       "\n",
       "    .dataframe thead th {\n",
       "        text-align: right;\n",
       "    }\n",
       "</style>\n",
       "<table border=\"1\" class=\"dataframe\">\n",
       "  <thead>\n",
       "    <tr style=\"text-align: right;\">\n",
       "      <th></th>\n",
       "      <th>Hugo_Symbol</th>\n",
       "      <th>NCBI_Build</th>\n",
       "      <th>Chromosome</th>\n",
       "      <th>Start_Position</th>\n",
       "      <th>End_Position</th>\n",
       "      <th>Strand</th>\n",
       "      <th>Variant_Classification</th>\n",
       "      <th>Variant_Type</th>\n",
       "      <th>Reference_Allele</th>\n",
       "      <th>Tumor_Seq_Allele1</th>\n",
       "      <th>Tumor_Seq_Allele2</th>\n",
       "      <th>Tumor_Sample_Barcode</th>\n",
       "      <th>HGVSp_Short</th>\n",
       "      <th>Protein_position</th>\n",
       "      <th>Codons</th>\n",
       "      <th>t_ref_count</th>\n",
       "      <th>t_alt_count</th>\n",
       "      <th>PATIENT_ID</th>\n",
       "    </tr>\n",
       "  </thead>\n",
       "  <tbody>\n",
       "    <tr>\n",
       "      <td>272</td>\n",
       "      <td>RFWD2</td>\n",
       "      <td>GRCh37</td>\n",
       "      <td>1</td>\n",
       "      <td>176132107</td>\n",
       "      <td>176132107</td>\n",
       "      <td>+</td>\n",
       "      <td>Missense_Mutation</td>\n",
       "      <td>SNP</td>\n",
       "      <td>C</td>\n",
       "      <td>C</td>\n",
       "      <td>A</td>\n",
       "      <td>P-0000082-T01-IM3</td>\n",
       "      <td>p.Q220H</td>\n",
       "      <td>220.0</td>\n",
       "      <td>caG/caT</td>\n",
       "      <td>872</td>\n",
       "      <td>248</td>\n",
       "      <td>P-0000082</td>\n",
       "    </tr>\n",
       "    <tr>\n",
       "      <td>273</td>\n",
       "      <td>REL</td>\n",
       "      <td>GRCh37</td>\n",
       "      <td>2</td>\n",
       "      <td>61121637</td>\n",
       "      <td>61121637</td>\n",
       "      <td>+</td>\n",
       "      <td>Missense_Mutation</td>\n",
       "      <td>SNP</td>\n",
       "      <td>G</td>\n",
       "      <td>G</td>\n",
       "      <td>T</td>\n",
       "      <td>P-0000082-T01-IM3</td>\n",
       "      <td>p.G87C</td>\n",
       "      <td>87.0</td>\n",
       "      <td>Ggc/Tgc</td>\n",
       "      <td>530</td>\n",
       "      <td>157</td>\n",
       "      <td>P-0000082</td>\n",
       "    </tr>\n",
       "    <tr>\n",
       "      <td>274</td>\n",
       "      <td>IRS1</td>\n",
       "      <td>GRCh37</td>\n",
       "      <td>2</td>\n",
       "      <td>227660531</td>\n",
       "      <td>227660531</td>\n",
       "      <td>+</td>\n",
       "      <td>Missense_Mutation</td>\n",
       "      <td>SNP</td>\n",
       "      <td>A</td>\n",
       "      <td>A</td>\n",
       "      <td>G</td>\n",
       "      <td>P-0000082-T01-IM3</td>\n",
       "      <td>p.I975T</td>\n",
       "      <td>975.0</td>\n",
       "      <td>aTt/aCt</td>\n",
       "      <td>547</td>\n",
       "      <td>171</td>\n",
       "      <td>P-0000082</td>\n",
       "    </tr>\n",
       "    <tr>\n",
       "      <td>275</td>\n",
       "      <td>NOTCH1</td>\n",
       "      <td>GRCh37</td>\n",
       "      <td>9</td>\n",
       "      <td>139405633</td>\n",
       "      <td>139405635</td>\n",
       "      <td>+</td>\n",
       "      <td>Missense_Mutation</td>\n",
       "      <td>ONP</td>\n",
       "      <td>AAG</td>\n",
       "      <td>AAG</td>\n",
       "      <td>CTC</td>\n",
       "      <td>P-0000082-T01-IM3</td>\n",
       "      <td>p.S852_F853delinsRS</td>\n",
       "      <td>852.0</td>\n",
       "      <td>agCTTc/agGAGc</td>\n",
       "      <td>629</td>\n",
       "      <td>144</td>\n",
       "      <td>P-0000082</td>\n",
       "    </tr>\n",
       "    <tr>\n",
       "      <td>276</td>\n",
       "      <td>NOTCH1</td>\n",
       "      <td>GRCh37</td>\n",
       "      <td>9</td>\n",
       "      <td>139413143</td>\n",
       "      <td>139413143</td>\n",
       "      <td>+</td>\n",
       "      <td>Missense_Mutation</td>\n",
       "      <td>SNP</td>\n",
       "      <td>G</td>\n",
       "      <td>G</td>\n",
       "      <td>C</td>\n",
       "      <td>P-0000082-T01-IM3</td>\n",
       "      <td>p.S333R</td>\n",
       "      <td>333.0</td>\n",
       "      <td>agC/agG</td>\n",
       "      <td>546</td>\n",
       "      <td>213</td>\n",
       "      <td>P-0000082</td>\n",
       "    </tr>\n",
       "  </tbody>\n",
       "</table>\n",
       "</div>"
      ],
      "text/plain": [
       "    Hugo_Symbol NCBI_Build Chromosome  Start_Position  End_Position Strand  \\\n",
       "272       RFWD2     GRCh37          1       176132107     176132107      +   \n",
       "273         REL     GRCh37          2        61121637      61121637      +   \n",
       "274        IRS1     GRCh37          2       227660531     227660531      +   \n",
       "275      NOTCH1     GRCh37          9       139405633     139405635      +   \n",
       "276      NOTCH1     GRCh37          9       139413143     139413143      +   \n",
       "\n",
       "    Variant_Classification Variant_Type Reference_Allele Tumor_Seq_Allele1  \\\n",
       "272      Missense_Mutation          SNP                C                 C   \n",
       "273      Missense_Mutation          SNP                G                 G   \n",
       "274      Missense_Mutation          SNP                A                 A   \n",
       "275      Missense_Mutation          ONP              AAG               AAG   \n",
       "276      Missense_Mutation          SNP                G                 G   \n",
       "\n",
       "    Tumor_Seq_Allele2 Tumor_Sample_Barcode          HGVSp_Short  \\\n",
       "272                 A    P-0000082-T01-IM3              p.Q220H   \n",
       "273                 T    P-0000082-T01-IM3               p.G87C   \n",
       "274                 G    P-0000082-T01-IM3              p.I975T   \n",
       "275               CTC    P-0000082-T01-IM3  p.S852_F853delinsRS   \n",
       "276                 C    P-0000082-T01-IM3              p.S333R   \n",
       "\n",
       "     Protein_position         Codons  t_ref_count  t_alt_count PATIENT_ID  \n",
       "272             220.0        caG/caT          872          248  P-0000082  \n",
       "273              87.0        Ggc/Tgc          530          157  P-0000082  \n",
       "274             975.0        aTt/aCt          547          171  P-0000082  \n",
       "275             852.0  agCTTc/agGAGc          629          144  P-0000082  \n",
       "276             333.0        agC/agG          546          213  P-0000082  "
      ]
     },
     "execution_count": 36,
     "metadata": {},
     "output_type": "execute_result"
    }
   ],
   "source": [
    "df_sam_mut4.head()"
   ]
  },
  {
   "cell_type": "code",
   "execution_count": 37,
   "metadata": {},
   "outputs": [],
   "source": [
    "def get_af(row):\n",
    "    alt_count = row.t_alt_count\n",
    "    ref_count = row.t_ref_count\n",
    "    try:\n",
    "        af = alt_count/(alt_count+ref_count)\n",
    "    except:\n",
    "        af = 0\n",
    "    return af"
   ]
  },
  {
   "cell_type": "code",
   "execution_count": 38,
   "metadata": {},
   "outputs": [
    {
     "name": "stderr",
     "output_type": "stream",
     "text": [
      "/home/adnan/anaconda3/lib/python3.7/site-packages/ipykernel_launcher.py:1: SettingWithCopyWarning: \n",
      "A value is trying to be set on a copy of a slice from a DataFrame.\n",
      "Try using .loc[row_indexer,col_indexer] = value instead\n",
      "\n",
      "See the caveats in the documentation: http://pandas.pydata.org/pandas-docs/stable/user_guide/indexing.html#returning-a-view-versus-a-copy\n",
      "  \"\"\"Entry point for launching an IPython kernel.\n"
     ]
    }
   ],
   "source": [
    "df_sam_mut4['af'] = df_sam_mut4.apply(lambda row: get_af(row), axis=1)"
   ]
  },
  {
   "cell_type": "markdown",
   "metadata": {},
   "source": [
    "#### Creating data for ML"
   ]
  },
  {
   "cell_type": "code",
   "execution_count": null,
   "metadata": {},
   "outputs": [],
   "source": [
    "#df_allen_mut5 = df_allen_mut5[df_allen_mut5['Variant_Classification']=='Missense_Mutation'] "
   ]
  },
  {
   "cell_type": "code",
   "execution_count": null,
   "metadata": {},
   "outputs": [],
   "source": [
    "10\tKEAP1\t1.524761\t0.014914\t2.434457\t62\n",
    "13\tSTK11\t1.477622\t0.023934\t2.258190\t66\n",
    "17\tPBRM1\t2.311227\t0.000464\t3.500881\t17\n",
    "43\tZFHX3\t0.344114\t0.021066\t-2.306792\t21\n",
    "72\tMET\t0.237527\t0.035938\t-2.097630\t11\n",
    "116\tNTRK3\t0.373096\t0.044661\t-2.007835\t18"
   ]
  },
  {
   "cell_type": "code",
   "execution_count": 39,
   "metadata": {},
   "outputs": [
    {
     "data": {
      "text/plain": [
       "266"
      ]
     },
     "execution_count": 39,
     "metadata": {},
     "output_type": "execute_result"
    }
   ],
   "source": [
    "len(df_sam_mut4['PATIENT_ID'].unique())"
   ]
  },
  {
   "cell_type": "markdown",
   "metadata": {},
   "source": [
    "<font color=red> Creating data according to New genes </font>"
   ]
  },
  {
   "cell_type": "code",
   "execution_count": 40,
   "metadata": {},
   "outputs": [],
   "source": [
    "data_dict = {}\n",
    "for ptid in df_sam_mut4['PATIENT_ID'].unique():\n",
    "    df_tmp1 = df_sam_mut4[df_sam_mut4['PATIENT_ID']==ptid]\n",
    "    \n",
    "    KEAP1_count = len(df_tmp1[df_tmp1['Hugo_Symbol']=='KEAP1'])\n",
    "    STK11_count = len(df_tmp1[df_tmp1['Hugo_Symbol']=='STK11'])\n",
    "    PBRM1_count = len(df_tmp1[df_tmp1['Hugo_Symbol']=='PBRM1'])\n",
    "    ZFHX3_count = len(df_tmp1[df_tmp1['Hugo_Symbol']=='ZFHX3'])\n",
    "    MET_count = len(df_tmp1[df_tmp1['Hugo_Symbol']=='MET'])\n",
    "    TP53_count = len(df_tmp1[df_tmp1['Hugo_Symbol']=='TP53'])\n",
    "    \n",
    "    tmb = len(df_tmp1)\n",
    "    KEAP1_af =  df_tmp1[df_tmp1['Hugo_Symbol']=='KEAP1']['af'].max()\n",
    "    STK11_af =  df_tmp1[df_tmp1['Hugo_Symbol']=='STK11']['af'].max()\n",
    "    PBRM1_af =  df_tmp1[df_tmp1['Hugo_Symbol']=='PBRM1']['af'].max()\n",
    "    ZFHX3_af =  df_tmp1[df_tmp1['Hugo_Symbol']=='ZFHX3']['af'].max()\n",
    "    MET_af =  df_tmp1[df_tmp1['Hugo_Symbol']=='MET']['af'].max()\n",
    "    TP53_af =  df_tmp1[df_tmp1['Hugo_Symbol']=='TP53']['af'].max()\n",
    "    \n",
    "    data_dict_tmp ={}\n",
    "    data_dict_tmp['KEAP1_count'] = KEAP1_count\n",
    "    data_dict_tmp['STK11_count'] = STK11_count\n",
    "    data_dict_tmp['PBRM1_count'] = PBRM1_count\n",
    "    data_dict_tmp['ZFHX3_count'] = ZFHX3_count\n",
    "    data_dict_tmp['MET_count'] = MET_count\n",
    "    data_dict_tmp['TP53_count'] = TP53_count\n",
    "    \n",
    "    data_dict_tmp['tmb'] = tmb\n",
    "    data_dict_tmp['KEAP1_af'] = KEAP1_af\n",
    "    data_dict_tmp['STK11_af'] = STK11_af\n",
    "    data_dict_tmp['PBRM1_af'] = PBRM1_af\n",
    "    data_dict_tmp['ZFHX3_af'] = ZFHX3_af\n",
    "    data_dict_tmp['MET_af'] = MET_af\n",
    "    data_dict_tmp['TP53_af'] = TP53_af\n",
    "    \n",
    "    data_dict[ptid] = data_dict_tmp"
   ]
  },
  {
   "cell_type": "markdown",
   "metadata": {},
   "source": [
    "<font color=red> uncomment and run the following code to create data according to Bradley 4 genes </font>"
   ]
  },
  {
   "cell_type": "code",
   "execution_count": null,
   "metadata": {},
   "outputs": [],
   "source": [
    "# data_dict = {}\n",
    "# for ptid in df_sam_mut4['PATIENT_ID'].unique():\n",
    "#     df_tmp1 = df_sam_mut4[df_sam_mut4['PATIENT_ID']==ptid]\n",
    "#     TP53_count = len(df_tmp1[df_tmp1['Hugo_Symbol']=='TP53'])\n",
    "#     KEAP1_count = len(df_tmp1[df_tmp1['Hugo_Symbol']=='KEAP1'])\n",
    "#     SMARCA4_count = len(df_tmp1[df_tmp1['Hugo_Symbol']=='SMARCA4'])\n",
    "#     STK11_count = len(df_tmp1[df_tmp1['Hugo_Symbol']=='STK11'])\n",
    "#     tmb = len(df_tmp1)\n",
    "#     TP53_af =  df_tmp1[df_tmp1['Hugo_Symbol']=='TP53']['af'].max()\n",
    "#     KEAP1_af =  df_tmp1[df_tmp1['Hugo_Symbol']=='KEAP1']['af'].max()\n",
    "#     SMARCA4_af =  df_tmp1[df_tmp1['Hugo_Symbol']=='SMARCA4']['af'].max()\n",
    "#     STK11_af =  df_tmp1[df_tmp1['Hugo_Symbol']=='STK11']['af'].max()\n",
    "    \n",
    "#     data_dict_tmp ={}\n",
    "#     data_dict_tmp['TP53_count'] = TP53_count\n",
    "#     data_dict_tmp['KEAP1_count'] = KEAP1_count\n",
    "#     data_dict_tmp['SMARCA4_count'] = SMARCA4_count\n",
    "#     data_dict_tmp['STK11_count'] = STK11_count\n",
    "#     data_dict_tmp['tmb'] = tmb\n",
    "#     data_dict_tmp['TP53_af'] = TP53_af\n",
    "#     data_dict_tmp['KEAP1_af'] = KEAP1_af\n",
    "#     data_dict_tmp['SMARCA4_af'] = SMARCA4_af\n",
    "#     data_dict_tmp['STK11_af'] = STK11_af\n",
    "    \n",
    "#     data_dict[ptid] = data_dict_tmp"
   ]
  },
  {
   "cell_type": "code",
   "execution_count": 41,
   "metadata": {},
   "outputs": [],
   "source": [
    "df_test_data = pd.DataFrame.from_dict(data_dict, orient='index').reset_index()"
   ]
  },
  {
   "cell_type": "code",
   "execution_count": 42,
   "metadata": {},
   "outputs": [],
   "source": [
    "df_test_data = df_test_data.fillna(0)"
   ]
  },
  {
   "cell_type": "code",
   "execution_count": 43,
   "metadata": {},
   "outputs": [],
   "source": [
    "df_test_data = df_test_data.rename(columns={'index':'PtID'})"
   ]
  },
  {
   "cell_type": "code",
   "execution_count": 44,
   "metadata": {},
   "outputs": [
    {
     "data": {
      "text/html": [
       "<div>\n",
       "<style scoped>\n",
       "    .dataframe tbody tr th:only-of-type {\n",
       "        vertical-align: middle;\n",
       "    }\n",
       "\n",
       "    .dataframe tbody tr th {\n",
       "        vertical-align: top;\n",
       "    }\n",
       "\n",
       "    .dataframe thead th {\n",
       "        text-align: right;\n",
       "    }\n",
       "</style>\n",
       "<table border=\"1\" class=\"dataframe\">\n",
       "  <thead>\n",
       "    <tr style=\"text-align: right;\">\n",
       "      <th></th>\n",
       "      <th>PtID</th>\n",
       "      <th>KEAP1_count</th>\n",
       "      <th>STK11_count</th>\n",
       "      <th>PBRM1_count</th>\n",
       "      <th>ZFHX3_count</th>\n",
       "      <th>MET_count</th>\n",
       "      <th>TP53_count</th>\n",
       "      <th>tmb</th>\n",
       "      <th>KEAP1_af</th>\n",
       "      <th>STK11_af</th>\n",
       "      <th>PBRM1_af</th>\n",
       "      <th>ZFHX3_af</th>\n",
       "      <th>MET_af</th>\n",
       "      <th>TP53_af</th>\n",
       "    </tr>\n",
       "  </thead>\n",
       "  <tbody>\n",
       "    <tr>\n",
       "      <td>0</td>\n",
       "      <td>P-0000082</td>\n",
       "      <td>0</td>\n",
       "      <td>0</td>\n",
       "      <td>0</td>\n",
       "      <td>0</td>\n",
       "      <td>0</td>\n",
       "      <td>1</td>\n",
       "      <td>12</td>\n",
       "      <td>0.000000</td>\n",
       "      <td>0.000000</td>\n",
       "      <td>0.000000</td>\n",
       "      <td>0.000000</td>\n",
       "      <td>0.000000</td>\n",
       "      <td>0.372549</td>\n",
       "    </tr>\n",
       "    <tr>\n",
       "      <td>1</td>\n",
       "      <td>P-0002766</td>\n",
       "      <td>1</td>\n",
       "      <td>1</td>\n",
       "      <td>0</td>\n",
       "      <td>0</td>\n",
       "      <td>0</td>\n",
       "      <td>0</td>\n",
       "      <td>6</td>\n",
       "      <td>0.134921</td>\n",
       "      <td>0.176849</td>\n",
       "      <td>0.000000</td>\n",
       "      <td>0.000000</td>\n",
       "      <td>0.000000</td>\n",
       "      <td>0.000000</td>\n",
       "    </tr>\n",
       "    <tr>\n",
       "      <td>2</td>\n",
       "      <td>P-0007083</td>\n",
       "      <td>0</td>\n",
       "      <td>0</td>\n",
       "      <td>1</td>\n",
       "      <td>0</td>\n",
       "      <td>0</td>\n",
       "      <td>1</td>\n",
       "      <td>16</td>\n",
       "      <td>0.000000</td>\n",
       "      <td>0.000000</td>\n",
       "      <td>0.346667</td>\n",
       "      <td>0.000000</td>\n",
       "      <td>0.000000</td>\n",
       "      <td>0.375536</td>\n",
       "    </tr>\n",
       "    <tr>\n",
       "      <td>3</td>\n",
       "      <td>P-0015078</td>\n",
       "      <td>0</td>\n",
       "      <td>0</td>\n",
       "      <td>0</td>\n",
       "      <td>0</td>\n",
       "      <td>0</td>\n",
       "      <td>0</td>\n",
       "      <td>9</td>\n",
       "      <td>0.000000</td>\n",
       "      <td>0.000000</td>\n",
       "      <td>0.000000</td>\n",
       "      <td>0.000000</td>\n",
       "      <td>0.000000</td>\n",
       "      <td>0.000000</td>\n",
       "    </tr>\n",
       "    <tr>\n",
       "      <td>4</td>\n",
       "      <td>P-0015214</td>\n",
       "      <td>0</td>\n",
       "      <td>0</td>\n",
       "      <td>0</td>\n",
       "      <td>1</td>\n",
       "      <td>0</td>\n",
       "      <td>1</td>\n",
       "      <td>28</td>\n",
       "      <td>0.000000</td>\n",
       "      <td>0.000000</td>\n",
       "      <td>0.000000</td>\n",
       "      <td>0.427619</td>\n",
       "      <td>0.000000</td>\n",
       "      <td>0.440594</td>\n",
       "    </tr>\n",
       "    <tr>\n",
       "      <td>5</td>\n",
       "      <td>P-0015222</td>\n",
       "      <td>1</td>\n",
       "      <td>1</td>\n",
       "      <td>0</td>\n",
       "      <td>0</td>\n",
       "      <td>0</td>\n",
       "      <td>1</td>\n",
       "      <td>9</td>\n",
       "      <td>0.263425</td>\n",
       "      <td>0.207831</td>\n",
       "      <td>0.000000</td>\n",
       "      <td>0.000000</td>\n",
       "      <td>0.000000</td>\n",
       "      <td>0.285270</td>\n",
       "    </tr>\n",
       "    <tr>\n",
       "      <td>6</td>\n",
       "      <td>P-0015259</td>\n",
       "      <td>0</td>\n",
       "      <td>0</td>\n",
       "      <td>0</td>\n",
       "      <td>0</td>\n",
       "      <td>0</td>\n",
       "      <td>0</td>\n",
       "      <td>3</td>\n",
       "      <td>0.000000</td>\n",
       "      <td>0.000000</td>\n",
       "      <td>0.000000</td>\n",
       "      <td>0.000000</td>\n",
       "      <td>0.000000</td>\n",
       "      <td>0.000000</td>\n",
       "    </tr>\n",
       "    <tr>\n",
       "      <td>7</td>\n",
       "      <td>P-0015348</td>\n",
       "      <td>0</td>\n",
       "      <td>0</td>\n",
       "      <td>0</td>\n",
       "      <td>0</td>\n",
       "      <td>0</td>\n",
       "      <td>1</td>\n",
       "      <td>12</td>\n",
       "      <td>0.000000</td>\n",
       "      <td>0.000000</td>\n",
       "      <td>0.000000</td>\n",
       "      <td>0.000000</td>\n",
       "      <td>0.000000</td>\n",
       "      <td>0.352507</td>\n",
       "    </tr>\n",
       "    <tr>\n",
       "      <td>8</td>\n",
       "      <td>P-0015556</td>\n",
       "      <td>1</td>\n",
       "      <td>0</td>\n",
       "      <td>0</td>\n",
       "      <td>0</td>\n",
       "      <td>0</td>\n",
       "      <td>0</td>\n",
       "      <td>5</td>\n",
       "      <td>0.151923</td>\n",
       "      <td>0.000000</td>\n",
       "      <td>0.000000</td>\n",
       "      <td>0.000000</td>\n",
       "      <td>0.000000</td>\n",
       "      <td>0.000000</td>\n",
       "    </tr>\n",
       "    <tr>\n",
       "      <td>9</td>\n",
       "      <td>P-0015593</td>\n",
       "      <td>0</td>\n",
       "      <td>0</td>\n",
       "      <td>0</td>\n",
       "      <td>0</td>\n",
       "      <td>1</td>\n",
       "      <td>1</td>\n",
       "      <td>5</td>\n",
       "      <td>0.000000</td>\n",
       "      <td>0.000000</td>\n",
       "      <td>0.000000</td>\n",
       "      <td>0.000000</td>\n",
       "      <td>0.400309</td>\n",
       "      <td>0.143135</td>\n",
       "    </tr>\n",
       "  </tbody>\n",
       "</table>\n",
       "</div>"
      ],
      "text/plain": [
       "        PtID  KEAP1_count  STK11_count  PBRM1_count  ZFHX3_count  MET_count  \\\n",
       "0  P-0000082            0            0            0            0          0   \n",
       "1  P-0002766            1            1            0            0          0   \n",
       "2  P-0007083            0            0            1            0          0   \n",
       "3  P-0015078            0            0            0            0          0   \n",
       "4  P-0015214            0            0            0            1          0   \n",
       "5  P-0015222            1            1            0            0          0   \n",
       "6  P-0015259            0            0            0            0          0   \n",
       "7  P-0015348            0            0            0            0          0   \n",
       "8  P-0015556            1            0            0            0          0   \n",
       "9  P-0015593            0            0            0            0          1   \n",
       "\n",
       "   TP53_count  tmb  KEAP1_af  STK11_af  PBRM1_af  ZFHX3_af    MET_af   TP53_af  \n",
       "0           1   12  0.000000  0.000000  0.000000  0.000000  0.000000  0.372549  \n",
       "1           0    6  0.134921  0.176849  0.000000  0.000000  0.000000  0.000000  \n",
       "2           1   16  0.000000  0.000000  0.346667  0.000000  0.000000  0.375536  \n",
       "3           0    9  0.000000  0.000000  0.000000  0.000000  0.000000  0.000000  \n",
       "4           1   28  0.000000  0.000000  0.000000  0.427619  0.000000  0.440594  \n",
       "5           1    9  0.263425  0.207831  0.000000  0.000000  0.000000  0.285270  \n",
       "6           0    3  0.000000  0.000000  0.000000  0.000000  0.000000  0.000000  \n",
       "7           1   12  0.000000  0.000000  0.000000  0.000000  0.000000  0.352507  \n",
       "8           0    5  0.151923  0.000000  0.000000  0.000000  0.000000  0.000000  \n",
       "9           1    5  0.000000  0.000000  0.000000  0.000000  0.400309  0.143135  "
      ]
     },
     "execution_count": 44,
     "metadata": {},
     "output_type": "execute_result"
    }
   ],
   "source": [
    "df_test_data.head(10)"
   ]
  },
  {
   "cell_type": "code",
   "execution_count": 45,
   "metadata": {},
   "outputs": [],
   "source": [
    "df_test_data['label'] = df_test_data['PtID'].map(lambda x: ptid_label_dict[x])"
   ]
  },
  {
   "cell_type": "code",
   "execution_count": 46,
   "metadata": {},
   "outputs": [],
   "source": [
    "df_test_data1 = df_test_data.dropna(subset=['label'])"
   ]
  },
  {
   "cell_type": "code",
   "execution_count": 47,
   "metadata": {},
   "outputs": [
    {
     "data": {
      "text/plain": [
       "1.0    141\n",
       "0.0    118\n",
       "Name: label, dtype: int64"
      ]
     },
     "execution_count": 47,
     "metadata": {},
     "output_type": "execute_result"
    }
   ],
   "source": [
    "df_test_data1.label.value_counts()"
   ]
  },
  {
   "cell_type": "code",
   "execution_count": null,
   "metadata": {},
   "outputs": [],
   "source": [
    "df_test_data['cancer_type'] = df_test_data['PtID'].map(lambda x: cancer_type_dict[x])"
   ]
  },
  {
   "cell_type": "markdown",
   "metadata": {},
   "source": [
    "#### one hot encoding"
   ]
  },
  {
   "cell_type": "code",
   "execution_count": null,
   "metadata": {},
   "outputs": [],
   "source": [
    "df_test_data1 = pd.concat([df_test_data,pd.get_dummies(df_test_data['cancer_type'], prefix='cancer_type')],axis=1)\n",
    "\n",
    "# now drop the original 'country' column (you don't need it anymore)\n",
    "df_test_data1.drop(['cancer_type'],axis=1, inplace=True)"
   ]
  },
  {
   "cell_type": "code",
   "execution_count": 251,
   "metadata": {},
   "outputs": [
    {
     "data": {
      "text/plain": [
       "Index(['PtID', 'KEAP1_count', 'STK11_count', 'PBRM1_count', 'ZFHX3_count',\n",
       "       'MET_count', 'TP53_count', 'tmb', 'KEAP1_af', 'STK11_af', 'PBRM1_af',\n",
       "       'ZFHX3_af', 'MET_af', 'TP53_af', 'label'],\n",
       "      dtype='object')"
      ]
     },
     "execution_count": 251,
     "metadata": {},
     "output_type": "execute_result"
    }
   ],
   "source": [
    "df_test_data1.columns"
   ]
  },
  {
   "cell_type": "code",
   "execution_count": 252,
   "metadata": {},
   "outputs": [
    {
     "data": {
      "text/plain": [
       "1.0    141\n",
       "0.0    118\n",
       "Name: label, dtype: int64"
      ]
     },
     "execution_count": 252,
     "metadata": {},
     "output_type": "execute_result"
    }
   ],
   "source": [
    "df_test_data1.label.value_counts()"
   ]
  },
  {
   "cell_type": "code",
   "execution_count": 253,
   "metadata": {},
   "outputs": [],
   "source": [
    "import matplotlib.pyplot as plt\n",
    "import seaborn as sns\n",
    "from sklearn.model_selection import train_test_split\n",
    "from sklearn.preprocessing import MinMaxScaler, Normalizer\n",
    "from sklearn.decomposition import PCA as sklearnPCA\n",
    "from sklearn import preprocessing\n",
    "from sklearn import svm\n",
    "from sklearn.tree import DecisionTreeClassifier\n",
    "from sklearn.ensemble import RandomForestClassifier\n",
    "from sklearn.decomposition import PCA\n",
    "from statistics import mean\n",
    "# Supress unnecessary warnings so that presentation looks clean\n",
    "import warnings\n",
    "warnings.filterwarnings(\"ignore\")\n",
    "import random \n",
    "random.seed(1234)"
   ]
  },
  {
   "cell_type": "code",
   "execution_count": 254,
   "metadata": {},
   "outputs": [],
   "source": [
    "from sklearn import svm\n",
    "from sklearn.tree import DecisionTreeClassifier\n",
    "from sklearn.ensemble import RandomForestClassifier, AdaBoostClassifier, GradientBoostingClassifier\n",
    "from sklearn import neighbors\n",
    "from sklearn.ensemble import BaggingClassifier\n",
    "from sklearn.neural_network import MLPClassifier\n",
    "from sklearn.linear_model import LogisticRegression"
   ]
  },
  {
   "cell_type": "code",
   "execution_count": 255,
   "metadata": {},
   "outputs": [],
   "source": [
    "df_test_data2 = df_test_data1.sample(frac=1).reset_index(drop=True)"
   ]
  },
  {
   "cell_type": "code",
   "execution_count": 256,
   "metadata": {},
   "outputs": [],
   "source": [
    "df_test_data2 = (df_test_data1.dropna())"
   ]
  },
  {
   "cell_type": "code",
   "execution_count": 257,
   "metadata": {},
   "outputs": [
    {
     "data": {
      "text/plain": [
       "1.0    141\n",
       "0.0    118\n",
       "Name: label, dtype: int64"
      ]
     },
     "execution_count": 257,
     "metadata": {},
     "output_type": "execute_result"
    }
   ],
   "source": [
    "df_test_data2.label.value_counts()"
   ]
  },
  {
   "cell_type": "markdown",
   "metadata": {},
   "source": [
    "#### Oversampling using smote"
   ]
  },
  {
   "cell_type": "code",
   "execution_count": 258,
   "metadata": {},
   "outputs": [],
   "source": [
    "X = df_test_data1[['tmb', 'KEAP1_count', 'STK11_count', 'PBRM1_count', 'ZFHX3_count',\n",
    "                   'MET_count', 'TP53_count', 'KEAP1_af', 'STK11_af', 'PBRM1_af',\n",
    "                   'ZFHX3_af', 'MET_af', 'TP53_af']]"
   ]
  },
  {
   "cell_type": "code",
   "execution_count": 259,
   "metadata": {},
   "outputs": [],
   "source": [
    "scaler = preprocessing.MinMaxScaler()\n",
    "scaler_mod = scaler.fit(X)\n",
    "scaled_X = scaler_mod.transform(X)\n",
    "df_scaled_X = pd.DataFrame(scaled_X, columns=X.columns)"
   ]
  },
  {
   "cell_type": "code",
   "execution_count": 260,
   "metadata": {},
   "outputs": [],
   "source": [
    "X = df_scaled_X.values\n",
    "Y = df_test_data2['label'].values"
   ]
  },
  {
   "cell_type": "code",
   "execution_count": 261,
   "metadata": {},
   "outputs": [],
   "source": [
    "def balance_smote(X, Y):\n",
    "    from imblearn.over_sampling import SMOTE\n",
    "    from collections import Counter\n",
    "    #X = df.drop('label', axis=1)\n",
    "    #Y = df.label\n",
    "    print('Original data shapes:', X.shape, Y.shape)\n",
    "    \n",
    "    smoX, smoY = X, Y\n",
    "    c = Counter(smoY)\n",
    "    while (min(c.values()) < max(c.values())):  # check if all classes are balanced, if not balance the first minority class\n",
    "        smote = SMOTE(ratio=\"auto\", kind='regular')\n",
    "        with warnings.catch_warnings():\n",
    "            warnings.simplefilter(\"ignore\")\n",
    "            smoX, smoY = smote.fit_sample(smoX, smoY)\n",
    "        c = Counter(smoY)\n",
    "    \n",
    "    print('Balanced data shapes:', smoX.shape, smoY.shape)\n",
    "    return smoX, smoY"
   ]
  },
  {
   "cell_type": "code",
   "execution_count": 262,
   "metadata": {},
   "outputs": [
    {
     "name": "stdout",
     "output_type": "stream",
     "text": [
      "Original data shapes: (259, 13) (259,)\n",
      "Balanced data shapes: (282, 13) (282,)\n"
     ]
    }
   ],
   "source": [
    "X, Y = balance_smote(X, Y)"
   ]
  },
  {
   "cell_type": "code",
   "execution_count": 263,
   "metadata": {},
   "outputs": [],
   "source": [
    "model1 = GradientBoostingClassifier()\n",
    "\n",
    "model2 = RandomForestClassifier(max_depth=7, n_estimators=10, max_features=3)\n",
    "\n",
    "\n",
    "#bagging classifier\n",
    "model3 = BaggingClassifier(base_estimator=DecisionTreeClassifier(), n_estimators=10, max_features=4)\n",
    "\n",
    "#multi layer perceptron\n",
    "#model8 = MLPClassifier(alpha=1, max_iter=1000)\n",
    "\n",
    "model4 = AdaBoostClassifier()\n",
    "\n",
    "\n",
    "\n",
    "model5 = RandomForestClassifier(max_depth=7, n_estimators=150, max_features=3)\n",
    "\n",
    "models =[model1, model2,model3, model4, model5]"
   ]
  },
  {
   "cell_type": "code",
   "execution_count": 264,
   "metadata": {},
   "outputs": [],
   "source": [
    "from sklearn.model_selection import cross_val_score\n",
    "clf = GradientBoostingClassifier()\n",
    "scores = cross_val_score(clf, X, Y, cv=5)"
   ]
  },
  {
   "cell_type": "code",
   "execution_count": 265,
   "metadata": {},
   "outputs": [
    {
     "data": {
      "text/plain": [
       "0.6379310344827587"
      ]
     },
     "execution_count": 265,
     "metadata": {},
     "output_type": "execute_result"
    }
   ],
   "source": [
    "scores.mean()"
   ]
  },
  {
   "cell_type": "code",
   "execution_count": 266,
   "metadata": {},
   "outputs": [],
   "source": [
    "#evaluating all models using cross validation\n",
    "from sklearn.model_selection import StratifiedKFold, KFold\n",
    "from sklearn.metrics import roc_auc_score, precision_score\n",
    "from sklearn.metrics import accuracy_score, recall_score, f1_score\n",
    "from sklearn.metrics import roc_curve, auc, roc_auc_score\n",
    "from sklearn.metrics import balanced_accuracy_score\n",
    "random.seed(1234)\n",
    "\n",
    "skf = StratifiedKFold(n_splits=8, shuffle=True)\n",
    "#skf = KFold(n_splits = 7, shuffle = True, random_state= 0)\n",
    "models_accuracy=[]\n",
    "models_roc_auc=[]\n",
    "\n",
    "output = {}\n",
    "i=1\n",
    "for model in models:\n",
    "    accuracy_list=[]\n",
    "    roc_auc_list=[]\n",
    "    \n",
    "    for train_index, test_index in skf.split(X, Y):\n",
    "        model.fit(X[train_index], Y[train_index])\n",
    "        y_pred = model.predict(X[test_index])\n",
    "        y_prob = model.predict_proba(X[test_index])[:,1]\n",
    "        \n",
    "        accuracy = balanced_accuracy_score(Y[test_index], y_pred)\n",
    "        accuracy_list.append(accuracy)\n",
    "        \n",
    "        roc_auc = roc_auc_score(Y[test_index], y_prob)\n",
    "        roc_auc_list.append(roc_auc)\n",
    "        \n",
    "    mean_accuracy=np.mean(accuracy_list)\n",
    "    mean_roc_auc=np.mean(roc_auc_list)\n",
    "\n",
    "    \n",
    "    models_accuracy.append(mean_accuracy)\n",
    "    models_roc_auc.append(mean_roc_auc)\n",
    "    model_perf={}\n",
    "    model_perf['accuracy'] = mean_accuracy\n",
    "    model_perf['roc_auc'] = mean_roc_auc\n",
    "    \n",
    "    model_num = 'model'+str(i)\n",
    "    output[model_num]= model_perf\n",
    "    i=i+1"
   ]
  },
  {
   "cell_type": "code",
   "execution_count": 267,
   "metadata": {},
   "outputs": [
    {
     "data": {
      "text/plain": [
       "{'model1': {'accuracy': 0.6875, 'roc_auc': 0.7437964564910932},\n",
       " 'model2': {'accuracy': 0.6560457516339869, 'roc_auc': 0.7068355119825708},\n",
       " 'model3': {'accuracy': 0.6233660130718954, 'roc_auc': 0.6853907685078389},\n",
       " 'model4': {'accuracy': 0.6158088235294117, 'roc_auc': 0.6733968505702934},\n",
       " 'model5': {'accuracy': 0.673406862745098, 'roc_auc': 0.7134295303088556}}"
      ]
     },
     "execution_count": 267,
     "metadata": {},
     "output_type": "execute_result"
    }
   ],
   "source": [
    "output"
   ]
  },
  {
   "cell_type": "code",
   "execution_count": 268,
   "metadata": {},
   "outputs": [
    {
     "data": {
      "text/plain": [
       "GradientBoostingClassifier(criterion='friedman_mse', init=None,\n",
       "              learning_rate=0.1, loss='deviance', max_depth=3,\n",
       "              max_features=None, max_leaf_nodes=None,\n",
       "              min_impurity_decrease=0.0, min_impurity_split=None,\n",
       "              min_samples_leaf=1, min_samples_split=2,\n",
       "              min_weight_fraction_leaf=0.0, n_estimators=100,\n",
       "              n_iter_no_change=None, presort='auto', random_state=None,\n",
       "              subsample=1.0, tol=0.0001, validation_fraction=0.1,\n",
       "              verbose=0, warm_start=False)"
      ]
     },
     "execution_count": 268,
     "metadata": {},
     "output_type": "execute_result"
    }
   ],
   "source": [
    "model_gbc = GradientBoostingClassifier()\n",
    "model_gbc.fit(X,Y)"
   ]
  },
  {
   "cell_type": "markdown",
   "metadata": {},
   "source": [
    "## 2. Allens evaluation"
   ]
  },
  {
   "cell_type": "code",
   "execution_count": 22,
   "metadata": {},
   "outputs": [],
   "source": [
    "df_allen_pat = pd.read_csv('../data/allen/data_clinical_patient.txt', error_bad_lines=False, \n",
    "                  skiprows = [0,1,2,3], low_memory=False, sep='\\t')\n",
    "df_allen_sam = pd.read_csv('../data/allen/data_clinical_sample.txt', error_bad_lines=False, \n",
    "                  skiprows = [0,1,2,3], low_memory=False, sep='\\t')\n",
    "df_allen_mut = pd.read_csv('../data/allen/data_mutations_extended.txt', error_bad_lines=False, \n",
    "                  low_memory=False, sep='\\t')"
   ]
  },
  {
   "cell_type": "code",
   "execution_count": 23,
   "metadata": {},
   "outputs": [
    {
     "data": {
      "text/html": [
       "<div>\n",
       "<style scoped>\n",
       "    .dataframe tbody tr th:only-of-type {\n",
       "        vertical-align: middle;\n",
       "    }\n",
       "\n",
       "    .dataframe tbody tr th {\n",
       "        vertical-align: top;\n",
       "    }\n",
       "\n",
       "    .dataframe thead th {\n",
       "        text-align: right;\n",
       "    }\n",
       "</style>\n",
       "<table border=\"1\" class=\"dataframe\">\n",
       "  <thead>\n",
       "    <tr style=\"text-align: right;\">\n",
       "      <th></th>\n",
       "      <th>PATIENT_ID</th>\n",
       "      <th>SEX</th>\n",
       "      <th>P16_ISH</th>\n",
       "      <th>OS_MONTHS</th>\n",
       "      <th>PFS_MONTHS</th>\n",
       "      <th>PFS_STATUS</th>\n",
       "      <th>HISTOLOGY</th>\n",
       "      <th>SUBTYPE</th>\n",
       "      <th>SMOKER</th>\n",
       "      <th>SMOKING_PACK_YEARS</th>\n",
       "      <th>RECIST_RESPONSE</th>\n",
       "      <th>AGE_START_IO</th>\n",
       "      <th>RECIST</th>\n",
       "      <th>VA_RESPONSE</th>\n",
       "      <th>ROH_RESPONSE</th>\n",
       "      <th>DRUG_TYPE</th>\n",
       "      <th>OTHER_CONCURRENT_THERAPY</th>\n",
       "      <th>OS_STATUS</th>\n",
       "    </tr>\n",
       "  </thead>\n",
       "  <tbody>\n",
       "    <tr>\n",
       "      <th>0</th>\n",
       "      <td>AC_PD1-1</td>\n",
       "      <td>Male</td>\n",
       "      <td>NaN</td>\n",
       "      <td>27.01</td>\n",
       "      <td>27.01</td>\n",
       "      <td>1.0</td>\n",
       "      <td>NaN</td>\n",
       "      <td>NaN</td>\n",
       "      <td>NaN</td>\n",
       "      <td>NaN</td>\n",
       "      <td>clinical benefit</td>\n",
       "      <td>NaN</td>\n",
       "      <td>CR</td>\n",
       "      <td>clinical benefit</td>\n",
       "      <td>clinical benefit</td>\n",
       "      <td>anti-PD-1/anti-PD-L1</td>\n",
       "      <td>no</td>\n",
       "      <td>LIVING</td>\n",
       "    </tr>\n",
       "    <tr>\n",
       "      <th>1</th>\n",
       "      <td>luad_mskcc_2015_15</td>\n",
       "      <td>Male</td>\n",
       "      <td>NaN</td>\n",
       "      <td>8.39</td>\n",
       "      <td>8.39</td>\n",
       "      <td>1.0</td>\n",
       "      <td>adenocarcinoma</td>\n",
       "      <td>NaN</td>\n",
       "      <td>Former</td>\n",
       "      <td>34.00</td>\n",
       "      <td>stable disease</td>\n",
       "      <td>59.0</td>\n",
       "      <td>SD</td>\n",
       "      <td>no clinical benefit</td>\n",
       "      <td>clinical benefit</td>\n",
       "      <td>anti-PD-1/anti-PD-L1</td>\n",
       "      <td>no</td>\n",
       "      <td>LIVING</td>\n",
       "    </tr>\n",
       "    <tr>\n",
       "      <th>2</th>\n",
       "      <td>luad_mskcc_2015_33</td>\n",
       "      <td>Male</td>\n",
       "      <td>NaN</td>\n",
       "      <td>1.78</td>\n",
       "      <td>1.78</td>\n",
       "      <td>0.0</td>\n",
       "      <td>adenocarcinoma</td>\n",
       "      <td>NaN</td>\n",
       "      <td>Former</td>\n",
       "      <td>10.00</td>\n",
       "      <td>no clinical benefit</td>\n",
       "      <td>64.0</td>\n",
       "      <td>PD</td>\n",
       "      <td>no clinical benefit</td>\n",
       "      <td>no clinical benefit</td>\n",
       "      <td>anti-PD-1/anti-PD-L1</td>\n",
       "      <td>no</td>\n",
       "      <td>LIVING</td>\n",
       "    </tr>\n",
       "    <tr>\n",
       "      <th>3</th>\n",
       "      <td>luad_mskcc_2015_22</td>\n",
       "      <td>Female</td>\n",
       "      <td>NaN</td>\n",
       "      <td>6.48</td>\n",
       "      <td>6.48</td>\n",
       "      <td>0.0</td>\n",
       "      <td>adenocarcinoma</td>\n",
       "      <td>NaN</td>\n",
       "      <td>Former</td>\n",
       "      <td>43.75</td>\n",
       "      <td>stable disease</td>\n",
       "      <td>73.0</td>\n",
       "      <td>SD</td>\n",
       "      <td>no clinical benefit</td>\n",
       "      <td>clinical benefit</td>\n",
       "      <td>anti-PD-1/anti-PD-L1</td>\n",
       "      <td>no</td>\n",
       "      <td>LIVING</td>\n",
       "    </tr>\n",
       "    <tr>\n",
       "      <th>4</th>\n",
       "      <td>BLADDER-15330_CCPM_0700629</td>\n",
       "      <td>Male</td>\n",
       "      <td>NaN</td>\n",
       "      <td>3.49</td>\n",
       "      <td>1.78</td>\n",
       "      <td>1.0</td>\n",
       "      <td>NaN</td>\n",
       "      <td>NaN</td>\n",
       "      <td>NaN</td>\n",
       "      <td>NaN</td>\n",
       "      <td>clinical benefit</td>\n",
       "      <td>69.0</td>\n",
       "      <td>PR</td>\n",
       "      <td>clinical benefit</td>\n",
       "      <td>clinical benefit</td>\n",
       "      <td>anti-PD-1/anti-PD-L1</td>\n",
       "      <td>no</td>\n",
       "      <td>LIVING</td>\n",
       "    </tr>\n",
       "  </tbody>\n",
       "</table>\n",
       "</div>"
      ],
      "text/plain": [
       "                   PATIENT_ID     SEX P16_ISH  OS_MONTHS  PFS_MONTHS  \\\n",
       "0                    AC_PD1-1    Male     NaN      27.01       27.01   \n",
       "1          luad_mskcc_2015_15    Male     NaN       8.39        8.39   \n",
       "2          luad_mskcc_2015_33    Male     NaN       1.78        1.78   \n",
       "3          luad_mskcc_2015_22  Female     NaN       6.48        6.48   \n",
       "4  BLADDER-15330_CCPM_0700629    Male     NaN       3.49        1.78   \n",
       "\n",
       "   PFS_STATUS       HISTOLOGY SUBTYPE  SMOKER  SMOKING_PACK_YEARS  \\\n",
       "0         1.0             NaN     NaN     NaN                 NaN   \n",
       "1         1.0  adenocarcinoma     NaN  Former               34.00   \n",
       "2         0.0  adenocarcinoma     NaN  Former               10.00   \n",
       "3         0.0  adenocarcinoma     NaN  Former               43.75   \n",
       "4         1.0             NaN     NaN     NaN                 NaN   \n",
       "\n",
       "       RECIST_RESPONSE  AGE_START_IO RECIST          VA_RESPONSE  \\\n",
       "0     clinical benefit           NaN     CR     clinical benefit   \n",
       "1       stable disease          59.0     SD  no clinical benefit   \n",
       "2  no clinical benefit          64.0     PD  no clinical benefit   \n",
       "3       stable disease          73.0     SD  no clinical benefit   \n",
       "4     clinical benefit          69.0     PR     clinical benefit   \n",
       "\n",
       "          ROH_RESPONSE             DRUG_TYPE OTHER_CONCURRENT_THERAPY  \\\n",
       "0     clinical benefit  anti-PD-1/anti-PD-L1                       no   \n",
       "1     clinical benefit  anti-PD-1/anti-PD-L1                       no   \n",
       "2  no clinical benefit  anti-PD-1/anti-PD-L1                       no   \n",
       "3     clinical benefit  anti-PD-1/anti-PD-L1                       no   \n",
       "4     clinical benefit  anti-PD-1/anti-PD-L1                       no   \n",
       "\n",
       "  OS_STATUS  \n",
       "0    LIVING  \n",
       "1    LIVING  \n",
       "2    LIVING  \n",
       "3    LIVING  \n",
       "4    LIVING  "
      ]
     },
     "execution_count": 23,
     "metadata": {},
     "output_type": "execute_result"
    }
   ],
   "source": [
    "df_allen_pat.head()"
   ]
  },
  {
   "cell_type": "code",
   "execution_count": 28,
   "metadata": {},
   "outputs": [
    {
     "data": {
      "text/plain": [
       "Lung Adenocarcinoma             47\n",
       "Lung Squamous Cell Carcinoma     7\n",
       "Non-Small Cell Lung Cancer       2\n",
       "Small Cell Lung Cancer           1\n",
       "Name: CANCER_TYPE_DETAILED, dtype: int64"
      ]
     },
     "execution_count": 28,
     "metadata": {},
     "output_type": "execute_result"
    }
   ],
   "source": [
    "df_allen_sam[df_allen_sam['TUMOR_TYPE']=='Lung']['CANCER_TYPE_DETAILED'].value_counts()"
   ]
  },
  {
   "cell_type": "code",
   "execution_count": 24,
   "metadata": {},
   "outputs": [
    {
     "data": {
      "text/plain": [
       "DECEASED    125\n",
       "LIVING      124\n",
       "Name: OS_STATUS, dtype: int64"
      ]
     },
     "execution_count": 24,
     "metadata": {},
     "output_type": "execute_result"
    }
   ],
   "source": [
    "df_allen_pat['OS_STATUS'].value_counts()"
   ]
  },
  {
   "cell_type": "code",
   "execution_count": 25,
   "metadata": {},
   "outputs": [],
   "source": [
    "def get_status_label(os_months, os_status, threshold):\n",
    "    if (os_months<threshold) & (os_status=='DECEASED'):\n",
    "        status_label=0\n",
    "    elif (os_months>=3):\n",
    "        status_label=1\n",
    "    else:\n",
    "        status_label=np.nan\n",
    "#     elif os_status=='DECEASED':\n",
    "#             status_label=0\n",
    "#     else:\n",
    "#         status_label=np.nan\n",
    "    return status_label"
   ]
  },
  {
   "cell_type": "code",
   "execution_count": 26,
   "metadata": {},
   "outputs": [],
   "source": [
    "df_allen_pat['label'] = df_allen_pat.apply(lambda row: get_status_label(row.OS_MONTHS, row.OS_STATUS, 11), axis=1)"
   ]
  },
  {
   "cell_type": "code",
   "execution_count": null,
   "metadata": {},
   "outputs": [],
   "source": [
    "df_allen_pat[df_allen_pat['PATIENT_ID']=='luad_mskcc_2015_24']"
   ]
  },
  {
   "cell_type": "code",
   "execution_count": null,
   "metadata": {},
   "outputs": [],
   "source": [
    "df_allen_sam[df_allen_sam['PATIENT_ID']=='luad_mskcc_2015_24']"
   ]
  },
  {
   "cell_type": "code",
   "execution_count": null,
   "metadata": {},
   "outputs": [],
   "source": [
    "df_allen_sam.head()"
   ]
  },
  {
   "cell_type": "code",
   "execution_count": 273,
   "metadata": {},
   "outputs": [],
   "source": [
    "patient_id_dict = df_allen_sam[['SAMPLE_ID', 'PATIENT_ID']].set_index('SAMPLE_ID').to_dict()['PATIENT_ID']"
   ]
  },
  {
   "cell_type": "markdown",
   "metadata": {},
   "source": [
    "### Clinical data"
   ]
  },
  {
   "cell_type": "code",
   "execution_count": 29,
   "metadata": {},
   "outputs": [
    {
     "data": {
      "text/html": [
       "<div>\n",
       "<style scoped>\n",
       "    .dataframe tbody tr th:only-of-type {\n",
       "        vertical-align: middle;\n",
       "    }\n",
       "\n",
       "    .dataframe tbody tr th {\n",
       "        vertical-align: top;\n",
       "    }\n",
       "\n",
       "    .dataframe thead th {\n",
       "        text-align: right;\n",
       "    }\n",
       "</style>\n",
       "<table border=\"1\" class=\"dataframe\">\n",
       "  <thead>\n",
       "    <tr style=\"text-align: right;\">\n",
       "      <th></th>\n",
       "      <th>PATIENT_ID</th>\n",
       "      <th>SEX</th>\n",
       "      <th>P16_ISH</th>\n",
       "      <th>OS_MONTHS</th>\n",
       "      <th>PFS_MONTHS</th>\n",
       "      <th>PFS_STATUS</th>\n",
       "      <th>HISTOLOGY</th>\n",
       "      <th>SUBTYPE</th>\n",
       "      <th>SMOKER</th>\n",
       "      <th>SMOKING_PACK_YEARS</th>\n",
       "      <th>RECIST_RESPONSE</th>\n",
       "      <th>AGE_START_IO</th>\n",
       "      <th>RECIST</th>\n",
       "      <th>VA_RESPONSE</th>\n",
       "      <th>ROH_RESPONSE</th>\n",
       "      <th>DRUG_TYPE</th>\n",
       "      <th>OTHER_CONCURRENT_THERAPY</th>\n",
       "      <th>OS_STATUS</th>\n",
       "      <th>label</th>\n",
       "    </tr>\n",
       "  </thead>\n",
       "  <tbody>\n",
       "    <tr>\n",
       "      <th>0</th>\n",
       "      <td>AC_PD1-1</td>\n",
       "      <td>Male</td>\n",
       "      <td>NaN</td>\n",
       "      <td>27.01</td>\n",
       "      <td>27.01</td>\n",
       "      <td>1.0</td>\n",
       "      <td>NaN</td>\n",
       "      <td>NaN</td>\n",
       "      <td>NaN</td>\n",
       "      <td>NaN</td>\n",
       "      <td>clinical benefit</td>\n",
       "      <td>NaN</td>\n",
       "      <td>CR</td>\n",
       "      <td>clinical benefit</td>\n",
       "      <td>clinical benefit</td>\n",
       "      <td>anti-PD-1/anti-PD-L1</td>\n",
       "      <td>no</td>\n",
       "      <td>LIVING</td>\n",
       "      <td>1.0</td>\n",
       "    </tr>\n",
       "    <tr>\n",
       "      <th>1</th>\n",
       "      <td>luad_mskcc_2015_15</td>\n",
       "      <td>Male</td>\n",
       "      <td>NaN</td>\n",
       "      <td>8.39</td>\n",
       "      <td>8.39</td>\n",
       "      <td>1.0</td>\n",
       "      <td>adenocarcinoma</td>\n",
       "      <td>NaN</td>\n",
       "      <td>Former</td>\n",
       "      <td>34.00</td>\n",
       "      <td>stable disease</td>\n",
       "      <td>59.0</td>\n",
       "      <td>SD</td>\n",
       "      <td>no clinical benefit</td>\n",
       "      <td>clinical benefit</td>\n",
       "      <td>anti-PD-1/anti-PD-L1</td>\n",
       "      <td>no</td>\n",
       "      <td>LIVING</td>\n",
       "      <td>1.0</td>\n",
       "    </tr>\n",
       "    <tr>\n",
       "      <th>2</th>\n",
       "      <td>luad_mskcc_2015_33</td>\n",
       "      <td>Male</td>\n",
       "      <td>NaN</td>\n",
       "      <td>1.78</td>\n",
       "      <td>1.78</td>\n",
       "      <td>0.0</td>\n",
       "      <td>adenocarcinoma</td>\n",
       "      <td>NaN</td>\n",
       "      <td>Former</td>\n",
       "      <td>10.00</td>\n",
       "      <td>no clinical benefit</td>\n",
       "      <td>64.0</td>\n",
       "      <td>PD</td>\n",
       "      <td>no clinical benefit</td>\n",
       "      <td>no clinical benefit</td>\n",
       "      <td>anti-PD-1/anti-PD-L1</td>\n",
       "      <td>no</td>\n",
       "      <td>LIVING</td>\n",
       "      <td>NaN</td>\n",
       "    </tr>\n",
       "    <tr>\n",
       "      <th>3</th>\n",
       "      <td>luad_mskcc_2015_22</td>\n",
       "      <td>Female</td>\n",
       "      <td>NaN</td>\n",
       "      <td>6.48</td>\n",
       "      <td>6.48</td>\n",
       "      <td>0.0</td>\n",
       "      <td>adenocarcinoma</td>\n",
       "      <td>NaN</td>\n",
       "      <td>Former</td>\n",
       "      <td>43.75</td>\n",
       "      <td>stable disease</td>\n",
       "      <td>73.0</td>\n",
       "      <td>SD</td>\n",
       "      <td>no clinical benefit</td>\n",
       "      <td>clinical benefit</td>\n",
       "      <td>anti-PD-1/anti-PD-L1</td>\n",
       "      <td>no</td>\n",
       "      <td>LIVING</td>\n",
       "      <td>1.0</td>\n",
       "    </tr>\n",
       "    <tr>\n",
       "      <th>4</th>\n",
       "      <td>BLADDER-15330_CCPM_0700629</td>\n",
       "      <td>Male</td>\n",
       "      <td>NaN</td>\n",
       "      <td>3.49</td>\n",
       "      <td>1.78</td>\n",
       "      <td>1.0</td>\n",
       "      <td>NaN</td>\n",
       "      <td>NaN</td>\n",
       "      <td>NaN</td>\n",
       "      <td>NaN</td>\n",
       "      <td>clinical benefit</td>\n",
       "      <td>69.0</td>\n",
       "      <td>PR</td>\n",
       "      <td>clinical benefit</td>\n",
       "      <td>clinical benefit</td>\n",
       "      <td>anti-PD-1/anti-PD-L1</td>\n",
       "      <td>no</td>\n",
       "      <td>LIVING</td>\n",
       "      <td>1.0</td>\n",
       "    </tr>\n",
       "  </tbody>\n",
       "</table>\n",
       "</div>"
      ],
      "text/plain": [
       "                   PATIENT_ID     SEX P16_ISH  OS_MONTHS  PFS_MONTHS  \\\n",
       "0                    AC_PD1-1    Male     NaN      27.01       27.01   \n",
       "1          luad_mskcc_2015_15    Male     NaN       8.39        8.39   \n",
       "2          luad_mskcc_2015_33    Male     NaN       1.78        1.78   \n",
       "3          luad_mskcc_2015_22  Female     NaN       6.48        6.48   \n",
       "4  BLADDER-15330_CCPM_0700629    Male     NaN       3.49        1.78   \n",
       "\n",
       "   PFS_STATUS       HISTOLOGY SUBTYPE  SMOKER  SMOKING_PACK_YEARS  \\\n",
       "0         1.0             NaN     NaN     NaN                 NaN   \n",
       "1         1.0  adenocarcinoma     NaN  Former               34.00   \n",
       "2         0.0  adenocarcinoma     NaN  Former               10.00   \n",
       "3         0.0  adenocarcinoma     NaN  Former               43.75   \n",
       "4         1.0             NaN     NaN     NaN                 NaN   \n",
       "\n",
       "       RECIST_RESPONSE  AGE_START_IO RECIST          VA_RESPONSE  \\\n",
       "0     clinical benefit           NaN     CR     clinical benefit   \n",
       "1       stable disease          59.0     SD  no clinical benefit   \n",
       "2  no clinical benefit          64.0     PD  no clinical benefit   \n",
       "3       stable disease          73.0     SD  no clinical benefit   \n",
       "4     clinical benefit          69.0     PR     clinical benefit   \n",
       "\n",
       "          ROH_RESPONSE             DRUG_TYPE OTHER_CONCURRENT_THERAPY  \\\n",
       "0     clinical benefit  anti-PD-1/anti-PD-L1                       no   \n",
       "1     clinical benefit  anti-PD-1/anti-PD-L1                       no   \n",
       "2  no clinical benefit  anti-PD-1/anti-PD-L1                       no   \n",
       "3     clinical benefit  anti-PD-1/anti-PD-L1                       no   \n",
       "4     clinical benefit  anti-PD-1/anti-PD-L1                       no   \n",
       "\n",
       "  OS_STATUS  label  \n",
       "0    LIVING    1.0  \n",
       "1    LIVING    1.0  \n",
       "2    LIVING    NaN  \n",
       "3    LIVING    1.0  \n",
       "4    LIVING    1.0  "
      ]
     },
     "execution_count": 29,
     "metadata": {},
     "output_type": "execute_result"
    }
   ],
   "source": [
    "df_allen_pat.head()"
   ]
  },
  {
   "cell_type": "code",
   "execution_count": 275,
   "metadata": {},
   "outputs": [
    {
     "data": {
      "text/plain": [
       "cutaneous                  120\n",
       "adenocarcinoma              36\n",
       "occult                      14\n",
       "Adenocarcinoma              11\n",
       "tonsil                       6\n",
       "squamous cell carcinoma      5\n",
       "mucosal                      5\n",
       "NSCLC NOS                    2\n",
       "oropharynx                   2\n",
       "Squamous Cell Carcinoma      2\n",
       "Small Cell Lung Cancer       1\n",
       "larynx                       1\n",
       "cutaneous and eye            1\n",
       "oral tongue                  1\n",
       "uveal                        1\n",
       "nasopharynx                  1\n",
       "base of tongue               1\n",
       "leiomyosarcoma               1\n",
       "Name: HISTOLOGY, dtype: int64"
      ]
     },
     "execution_count": 275,
     "metadata": {},
     "output_type": "execute_result"
    }
   ],
   "source": [
    "df_allen_pat['HISTOLOGY'].value_counts()"
   ]
  },
  {
   "cell_type": "markdown",
   "metadata": {},
   "source": [
    "#### filtering only lung cancer data"
   ]
  },
  {
   "cell_type": "code",
   "execution_count": 276,
   "metadata": {},
   "outputs": [],
   "source": [
    "df_allen_pat1 = df_allen_pat[(df_allen_pat['HISTOLOGY']=='adenocarcinoma')|(df_allen_pat['HISTOLOGY']=='Adenocarcinoma')]"
   ]
  },
  {
   "cell_type": "code",
   "execution_count": 277,
   "metadata": {},
   "outputs": [
    {
     "data": {
      "text/plain": [
       "47"
      ]
     },
     "execution_count": 277,
     "metadata": {},
     "output_type": "execute_result"
    }
   ],
   "source": [
    "len(df_allen_pat1)"
   ]
  },
  {
   "cell_type": "code",
   "execution_count": 314,
   "metadata": {},
   "outputs": [
    {
     "data": {
      "text/html": [
       "<div>\n",
       "<style scoped>\n",
       "    .dataframe tbody tr th:only-of-type {\n",
       "        vertical-align: middle;\n",
       "    }\n",
       "\n",
       "    .dataframe tbody tr th {\n",
       "        vertical-align: top;\n",
       "    }\n",
       "\n",
       "    .dataframe thead th {\n",
       "        text-align: right;\n",
       "    }\n",
       "</style>\n",
       "<table border=\"1\" class=\"dataframe\">\n",
       "  <thead>\n",
       "    <tr style=\"text-align: right;\">\n",
       "      <th></th>\n",
       "      <th>PATIENT_ID</th>\n",
       "      <th>SEX</th>\n",
       "      <th>P16_ISH</th>\n",
       "      <th>OS_MONTHS</th>\n",
       "      <th>PFS_MONTHS</th>\n",
       "      <th>PFS_STATUS</th>\n",
       "      <th>HISTOLOGY</th>\n",
       "      <th>SUBTYPE</th>\n",
       "      <th>SMOKER</th>\n",
       "      <th>SMOKING_PACK_YEARS</th>\n",
       "      <th>RECIST_RESPONSE</th>\n",
       "      <th>AGE_START_IO</th>\n",
       "      <th>RECIST</th>\n",
       "      <th>VA_RESPONSE</th>\n",
       "      <th>ROH_RESPONSE</th>\n",
       "      <th>DRUG_TYPE</th>\n",
       "      <th>OTHER_CONCURRENT_THERAPY</th>\n",
       "      <th>OS_STATUS</th>\n",
       "      <th>label</th>\n",
       "    </tr>\n",
       "  </thead>\n",
       "  <tbody>\n",
       "    <tr>\n",
       "      <td>1</td>\n",
       "      <td>luad_mskcc_2015_15</td>\n",
       "      <td>Male</td>\n",
       "      <td>NaN</td>\n",
       "      <td>8.39</td>\n",
       "      <td>8.39</td>\n",
       "      <td>1.0</td>\n",
       "      <td>adenocarcinoma</td>\n",
       "      <td>NaN</td>\n",
       "      <td>Former</td>\n",
       "      <td>34.00</td>\n",
       "      <td>stable disease</td>\n",
       "      <td>59.0</td>\n",
       "      <td>SD</td>\n",
       "      <td>no clinical benefit</td>\n",
       "      <td>clinical benefit</td>\n",
       "      <td>anti-PD-1/anti-PD-L1</td>\n",
       "      <td>no</td>\n",
       "      <td>LIVING</td>\n",
       "      <td>1.0</td>\n",
       "    </tr>\n",
       "    <tr>\n",
       "      <td>2</td>\n",
       "      <td>luad_mskcc_2015_33</td>\n",
       "      <td>Male</td>\n",
       "      <td>NaN</td>\n",
       "      <td>1.78</td>\n",
       "      <td>1.78</td>\n",
       "      <td>0.0</td>\n",
       "      <td>adenocarcinoma</td>\n",
       "      <td>NaN</td>\n",
       "      <td>Former</td>\n",
       "      <td>10.00</td>\n",
       "      <td>no clinical benefit</td>\n",
       "      <td>64.0</td>\n",
       "      <td>PD</td>\n",
       "      <td>no clinical benefit</td>\n",
       "      <td>no clinical benefit</td>\n",
       "      <td>anti-PD-1/anti-PD-L1</td>\n",
       "      <td>no</td>\n",
       "      <td>LIVING</td>\n",
       "      <td>NaN</td>\n",
       "    </tr>\n",
       "    <tr>\n",
       "      <td>3</td>\n",
       "      <td>luad_mskcc_2015_22</td>\n",
       "      <td>Female</td>\n",
       "      <td>NaN</td>\n",
       "      <td>6.48</td>\n",
       "      <td>6.48</td>\n",
       "      <td>0.0</td>\n",
       "      <td>adenocarcinoma</td>\n",
       "      <td>NaN</td>\n",
       "      <td>Former</td>\n",
       "      <td>43.75</td>\n",
       "      <td>stable disease</td>\n",
       "      <td>73.0</td>\n",
       "      <td>SD</td>\n",
       "      <td>no clinical benefit</td>\n",
       "      <td>clinical benefit</td>\n",
       "      <td>anti-PD-1/anti-PD-L1</td>\n",
       "      <td>no</td>\n",
       "      <td>LIVING</td>\n",
       "      <td>1.0</td>\n",
       "    </tr>\n",
       "    <tr>\n",
       "      <td>31</td>\n",
       "      <td>luad_mskcc_2015_9</td>\n",
       "      <td>Male</td>\n",
       "      <td>NaN</td>\n",
       "      <td>14.51</td>\n",
       "      <td>14.51</td>\n",
       "      <td>0.0</td>\n",
       "      <td>adenocarcinoma</td>\n",
       "      <td>NaN</td>\n",
       "      <td>Former</td>\n",
       "      <td>80.00</td>\n",
       "      <td>clinical benefit</td>\n",
       "      <td>57.0</td>\n",
       "      <td>PR</td>\n",
       "      <td>clinical benefit</td>\n",
       "      <td>clinical benefit</td>\n",
       "      <td>anti-PD-1/anti-PD-L1</td>\n",
       "      <td>no</td>\n",
       "      <td>LIVING</td>\n",
       "      <td>1.0</td>\n",
       "    </tr>\n",
       "    <tr>\n",
       "      <td>32</td>\n",
       "      <td>CANSEQU01-0100425</td>\n",
       "      <td>Female</td>\n",
       "      <td>NaN</td>\n",
       "      <td>24.18</td>\n",
       "      <td>6.81</td>\n",
       "      <td>0.0</td>\n",
       "      <td>Adenocarcinoma</td>\n",
       "      <td>NaN</td>\n",
       "      <td>former</td>\n",
       "      <td>45.00</td>\n",
       "      <td>clinical benefit</td>\n",
       "      <td>NaN</td>\n",
       "      <td>PR</td>\n",
       "      <td>clinical benefit</td>\n",
       "      <td>clinical benefit</td>\n",
       "      <td>anti-PD-1/anti-PD-L1</td>\n",
       "      <td>no</td>\n",
       "      <td>LIVING</td>\n",
       "      <td>1.0</td>\n",
       "    </tr>\n",
       "  </tbody>\n",
       "</table>\n",
       "</div>"
      ],
      "text/plain": [
       "            PATIENT_ID     SEX P16_ISH  OS_MONTHS  PFS_MONTHS  PFS_STATUS  \\\n",
       "1   luad_mskcc_2015_15    Male     NaN       8.39        8.39         1.0   \n",
       "2   luad_mskcc_2015_33    Male     NaN       1.78        1.78         0.0   \n",
       "3   luad_mskcc_2015_22  Female     NaN       6.48        6.48         0.0   \n",
       "31   luad_mskcc_2015_9    Male     NaN      14.51       14.51         0.0   \n",
       "32   CANSEQU01-0100425  Female     NaN      24.18        6.81         0.0   \n",
       "\n",
       "         HISTOLOGY SUBTYPE  SMOKER  SMOKING_PACK_YEARS      RECIST_RESPONSE  \\\n",
       "1   adenocarcinoma     NaN  Former               34.00       stable disease   \n",
       "2   adenocarcinoma     NaN  Former               10.00  no clinical benefit   \n",
       "3   adenocarcinoma     NaN  Former               43.75       stable disease   \n",
       "31  adenocarcinoma     NaN  Former               80.00     clinical benefit   \n",
       "32  Adenocarcinoma     NaN  former               45.00     clinical benefit   \n",
       "\n",
       "    AGE_START_IO RECIST          VA_RESPONSE         ROH_RESPONSE  \\\n",
       "1           59.0     SD  no clinical benefit     clinical benefit   \n",
       "2           64.0     PD  no clinical benefit  no clinical benefit   \n",
       "3           73.0     SD  no clinical benefit     clinical benefit   \n",
       "31          57.0     PR     clinical benefit     clinical benefit   \n",
       "32           NaN     PR     clinical benefit     clinical benefit   \n",
       "\n",
       "               DRUG_TYPE OTHER_CONCURRENT_THERAPY OS_STATUS  label  \n",
       "1   anti-PD-1/anti-PD-L1                       no    LIVING    1.0  \n",
       "2   anti-PD-1/anti-PD-L1                       no    LIVING    NaN  \n",
       "3   anti-PD-1/anti-PD-L1                       no    LIVING    1.0  \n",
       "31  anti-PD-1/anti-PD-L1                       no    LIVING    1.0  \n",
       "32  anti-PD-1/anti-PD-L1                       no    LIVING    1.0  "
      ]
     },
     "execution_count": 314,
     "metadata": {},
     "output_type": "execute_result"
    }
   ],
   "source": [
    "df_allen_pat1.head()"
   ]
  },
  {
   "cell_type": "code",
   "execution_count": 315,
   "metadata": {},
   "outputs": [],
   "source": [
    "df_allen_pat1['CNSR'] = df_allen_pat1['OS_STATUS'].map(lambda x: 1 if x=='DECEASED' else 0)"
   ]
  },
  {
   "cell_type": "code",
   "execution_count": 316,
   "metadata": {},
   "outputs": [],
   "source": [
    "os_months_dict = df_allen_pat1[['PATIENT_ID', 'OS_MONTHS']].set_index('PATIENT_ID').to_dict()['OS_MONTHS']"
   ]
  },
  {
   "cell_type": "code",
   "execution_count": 317,
   "metadata": {},
   "outputs": [],
   "source": [
    "cnsr_dict = df_allen_pat1[['PATIENT_ID', 'CNSR']].set_index('PATIENT_ID').to_dict()['CNSR']"
   ]
  },
  {
   "cell_type": "code",
   "execution_count": null,
   "metadata": {},
   "outputs": [],
   "source": []
  },
  {
   "cell_type": "code",
   "execution_count": 279,
   "metadata": {},
   "outputs": [
    {
     "data": {
      "text/plain": [
       "1.0    30\n",
       "0.0    10\n",
       "Name: label, dtype: int64"
      ]
     },
     "execution_count": 279,
     "metadata": {},
     "output_type": "execute_result"
    }
   ],
   "source": [
    "df_allen_pat1.label.value_counts()"
   ]
  },
  {
   "cell_type": "code",
   "execution_count": null,
   "metadata": {},
   "outputs": [],
   "source": [
    "df_allen_pat1['RECIST_RESPONSE'].value_counts()"
   ]
  },
  {
   "cell_type": "code",
   "execution_count": null,
   "metadata": {},
   "outputs": [],
   "source": [
    "df_allen_pat1['RECIST'].value_counts()"
   ]
  },
  {
   "cell_type": "code",
   "execution_count": null,
   "metadata": {},
   "outputs": [],
   "source": [
    "df_allen_pat1['DRUG_TYPE'].value_counts()"
   ]
  },
  {
   "cell_type": "code",
   "execution_count": 280,
   "metadata": {},
   "outputs": [],
   "source": [
    "df_allen_pat2 = df_allen_pat1[(df_allen_pat1['DRUG_TYPE']=='anti-PD-1/anti-PD-L1')]"
   ]
  },
  {
   "cell_type": "code",
   "execution_count": 281,
   "metadata": {},
   "outputs": [],
   "source": [
    "#df_allen_pat3 = df_allen_pat2[~(df_allen_pat2['RECIST']=='SD')]\n",
    "df_allen_pat3 = df_allen_pat2.dropna(subset=['label'])"
   ]
  },
  {
   "cell_type": "markdown",
   "metadata": {},
   "source": [
    "There are total 57 patients. We are not interested in stable disease so after removing it we are left with 36 patients. One patient is one ant CTLA4 drug as well. We have removed him as well."
   ]
  },
  {
   "cell_type": "code",
   "execution_count": 282,
   "metadata": {},
   "outputs": [
    {
     "data": {
      "text/plain": [
       "40"
      ]
     },
     "execution_count": 282,
     "metadata": {},
     "output_type": "execute_result"
    }
   ],
   "source": [
    "len(df_allen_pat3)"
   ]
  },
  {
   "cell_type": "code",
   "execution_count": 283,
   "metadata": {},
   "outputs": [
    {
     "data": {
      "text/plain": [
       "adenocarcinoma    29\n",
       "Adenocarcinoma    11\n",
       "Name: HISTOLOGY, dtype: int64"
      ]
     },
     "execution_count": 283,
     "metadata": {},
     "output_type": "execute_result"
    }
   ],
   "source": [
    "df_allen_pat3.HISTOLOGY.value_counts()"
   ]
  },
  {
   "cell_type": "code",
   "execution_count": 284,
   "metadata": {},
   "outputs": [],
   "source": [
    "patient_ids_allen = df_allen_pat3['PATIENT_ID'].values"
   ]
  },
  {
   "cell_type": "code",
   "execution_count": null,
   "metadata": {},
   "outputs": [],
   "source": [
    "df_allen_pat3.head()"
   ]
  },
  {
   "cell_type": "code",
   "execution_count": null,
   "metadata": {},
   "outputs": [],
   "source": [
    "def get_label(disease_status):\n",
    "    if disease_status == 'PD':\n",
    "        label=0\n",
    "    elif disease_status =='PR':\n",
    "        label=1\n",
    "    elif disease_status=='CR':\n",
    "        label=1\n",
    "    else:\n",
    "        label = np.nan\n",
    "    return label"
   ]
  },
  {
   "cell_type": "code",
   "execution_count": null,
   "metadata": {},
   "outputs": [],
   "source": [
    "df_allen_pat3['recist_label'] = df_allen_pat3['RECIST'].map(lambda x: get_label(x))"
   ]
  },
  {
   "cell_type": "code",
   "execution_count": null,
   "metadata": {},
   "outputs": [],
   "source": [
    "df_allen_pat3.head(10)"
   ]
  },
  {
   "cell_type": "code",
   "execution_count": 285,
   "metadata": {},
   "outputs": [],
   "source": [
    "labels_dict = df_allen_pat3[['PATIENT_ID', 'label']].set_index('PATIENT_ID').to_dict()['label']"
   ]
  },
  {
   "cell_type": "code",
   "execution_count": null,
   "metadata": {},
   "outputs": [],
   "source": [
    "labels_recist_dict = df_allen_pat3[['PATIENT_ID', 'recist_label']].set_index('PATIENT_ID').to_dict()['recist_label']"
   ]
  },
  {
   "cell_type": "markdown",
   "metadata": {},
   "source": [
    "### Mutations data"
   ]
  },
  {
   "cell_type": "code",
   "execution_count": 286,
   "metadata": {},
   "outputs": [],
   "source": [
    "df_allen_mut = pd.read_csv('../data/allen/data_mutations_extended.txt', error_bad_lines=False, \n",
    "                  low_memory=False, sep='\\t')"
   ]
  },
  {
   "cell_type": "code",
   "execution_count": null,
   "metadata": {},
   "outputs": [],
   "source": [
    "df_allen_mut.columns"
   ]
  },
  {
   "cell_type": "code",
   "execution_count": 287,
   "metadata": {},
   "outputs": [],
   "source": [
    "df_allen_mut1 = df_allen_mut[['Hugo_Symbol',  'NCBI_Build', 'Chromosome',\n",
    "       'Start_Position', 'End_Position', 'Strand', 'Variant_Classification',\n",
    "       'Variant_Type', 'Reference_Allele', 'Tumor_Seq_Allele1',\n",
    "       'Tumor_Seq_Allele2', 'Tumor_Sample_Barcode', 'HGVSp_Short',\n",
    "        'Protein_position', 'Codons', 't_ref_count', 't_alt_count']]"
   ]
  },
  {
   "cell_type": "code",
   "execution_count": 288,
   "metadata": {},
   "outputs": [
    {
     "data": {
      "text/plain": [
       "SNP    163970\n",
       "DEL      2263\n",
       "INS      1084\n",
       "Name: Variant_Type, dtype: int64"
      ]
     },
     "execution_count": 288,
     "metadata": {},
     "output_type": "execute_result"
    }
   ],
   "source": [
    "df_allen_mut1.Variant_Type.value_counts()"
   ]
  },
  {
   "cell_type": "code",
   "execution_count": null,
   "metadata": {},
   "outputs": [],
   "source": [
    "df_allen_mut2 = df_allen_mut1[df_allen_mut1['Variant_Type']=='SNP']"
   ]
  },
  {
   "cell_type": "code",
   "execution_count": null,
   "metadata": {},
   "outputs": [],
   "source": [
    "df_allen_mut3 = df_allen_mut1.dropna(subset=['Codons'])"
   ]
  },
  {
   "cell_type": "code",
   "execution_count": 289,
   "metadata": {},
   "outputs": [],
   "source": [
    "df_allen_mut4 = df_allen_mut1[~(df_allen_mut1['Variant_Classification']=='Silent')]"
   ]
  },
  {
   "cell_type": "code",
   "execution_count": 290,
   "metadata": {},
   "outputs": [],
   "source": [
    "df_allen_mut4['PATIENT_ID'] = df_allen_mut4['Tumor_Sample_Barcode'].map(lambda x: patient_id_dict[x])"
   ]
  },
  {
   "cell_type": "code",
   "execution_count": 291,
   "metadata": {},
   "outputs": [],
   "source": [
    "df_allen_mut5 = df_allen_mut4[df_allen_mut4['PATIENT_ID'].isin(patient_ids_allen)]"
   ]
  },
  {
   "cell_type": "code",
   "execution_count": 292,
   "metadata": {},
   "outputs": [
    {
     "data": {
      "text/html": [
       "<div>\n",
       "<style scoped>\n",
       "    .dataframe tbody tr th:only-of-type {\n",
       "        vertical-align: middle;\n",
       "    }\n",
       "\n",
       "    .dataframe tbody tr th {\n",
       "        vertical-align: top;\n",
       "    }\n",
       "\n",
       "    .dataframe thead th {\n",
       "        text-align: right;\n",
       "    }\n",
       "</style>\n",
       "<table border=\"1\" class=\"dataframe\">\n",
       "  <thead>\n",
       "    <tr style=\"text-align: right;\">\n",
       "      <th></th>\n",
       "      <th>Hugo_Symbol</th>\n",
       "      <th>NCBI_Build</th>\n",
       "      <th>Chromosome</th>\n",
       "      <th>Start_Position</th>\n",
       "      <th>End_Position</th>\n",
       "      <th>Strand</th>\n",
       "      <th>Variant_Classification</th>\n",
       "      <th>Variant_Type</th>\n",
       "      <th>Reference_Allele</th>\n",
       "      <th>Tumor_Seq_Allele1</th>\n",
       "      <th>Tumor_Seq_Allele2</th>\n",
       "      <th>Tumor_Sample_Barcode</th>\n",
       "      <th>HGVSp_Short</th>\n",
       "      <th>Protein_position</th>\n",
       "      <th>Codons</th>\n",
       "      <th>t_ref_count</th>\n",
       "      <th>t_alt_count</th>\n",
       "      <th>PATIENT_ID</th>\n",
       "    </tr>\n",
       "  </thead>\n",
       "  <tbody>\n",
       "    <tr>\n",
       "      <td>359</td>\n",
       "      <td>PTK7</td>\n",
       "      <td>GRCh37</td>\n",
       "      <td>6</td>\n",
       "      <td>43114362</td>\n",
       "      <td>43114362</td>\n",
       "      <td>+</td>\n",
       "      <td>Missense_Mutation</td>\n",
       "      <td>SNP</td>\n",
       "      <td>C</td>\n",
       "      <td>C</td>\n",
       "      <td>G</td>\n",
       "      <td>AL4602</td>\n",
       "      <td>p.L883V</td>\n",
       "      <td>883.0</td>\n",
       "      <td>Ctc/Gtc</td>\n",
       "      <td>108</td>\n",
       "      <td>14</td>\n",
       "      <td>luad_mskcc_2015_15</td>\n",
       "    </tr>\n",
       "    <tr>\n",
       "      <td>360</td>\n",
       "      <td>DZANK1</td>\n",
       "      <td>GRCh37</td>\n",
       "      <td>20</td>\n",
       "      <td>18393435</td>\n",
       "      <td>18393435</td>\n",
       "      <td>+</td>\n",
       "      <td>Missense_Mutation</td>\n",
       "      <td>SNP</td>\n",
       "      <td>C</td>\n",
       "      <td>C</td>\n",
       "      <td>A</td>\n",
       "      <td>AL4602</td>\n",
       "      <td>p.R429S</td>\n",
       "      <td>429.0</td>\n",
       "      <td>agG/agT</td>\n",
       "      <td>103</td>\n",
       "      <td>11</td>\n",
       "      <td>luad_mskcc_2015_15</td>\n",
       "    </tr>\n",
       "    <tr>\n",
       "      <td>361</td>\n",
       "      <td>KCNH7</td>\n",
       "      <td>GRCh37</td>\n",
       "      <td>2</td>\n",
       "      <td>163361083</td>\n",
       "      <td>163361083</td>\n",
       "      <td>+</td>\n",
       "      <td>Missense_Mutation</td>\n",
       "      <td>SNP</td>\n",
       "      <td>G</td>\n",
       "      <td>G</td>\n",
       "      <td>A</td>\n",
       "      <td>AL4602</td>\n",
       "      <td>p.P333L</td>\n",
       "      <td>333.0</td>\n",
       "      <td>cCa/cTa</td>\n",
       "      <td>206</td>\n",
       "      <td>14</td>\n",
       "      <td>luad_mskcc_2015_15</td>\n",
       "    </tr>\n",
       "    <tr>\n",
       "      <td>362</td>\n",
       "      <td>UGT1A3</td>\n",
       "      <td>GRCh37</td>\n",
       "      <td>2</td>\n",
       "      <td>234638106</td>\n",
       "      <td>234638106</td>\n",
       "      <td>+</td>\n",
       "      <td>Nonsense_Mutation</td>\n",
       "      <td>SNP</td>\n",
       "      <td>A</td>\n",
       "      <td>A</td>\n",
       "      <td>T</td>\n",
       "      <td>AL4602</td>\n",
       "      <td>p.R112*</td>\n",
       "      <td>112.0</td>\n",
       "      <td>Aga/Tga</td>\n",
       "      <td>278</td>\n",
       "      <td>13</td>\n",
       "      <td>luad_mskcc_2015_15</td>\n",
       "    </tr>\n",
       "    <tr>\n",
       "      <td>363</td>\n",
       "      <td>FAM110B</td>\n",
       "      <td>GRCh37</td>\n",
       "      <td>8</td>\n",
       "      <td>59059129</td>\n",
       "      <td>59059129</td>\n",
       "      <td>+</td>\n",
       "      <td>Missense_Mutation</td>\n",
       "      <td>SNP</td>\n",
       "      <td>G</td>\n",
       "      <td>G</td>\n",
       "      <td>C</td>\n",
       "      <td>AL4602</td>\n",
       "      <td>p.E114Q</td>\n",
       "      <td>114.0</td>\n",
       "      <td>Gag/Cag</td>\n",
       "      <td>37</td>\n",
       "      <td>4</td>\n",
       "      <td>luad_mskcc_2015_15</td>\n",
       "    </tr>\n",
       "  </tbody>\n",
       "</table>\n",
       "</div>"
      ],
      "text/plain": [
       "    Hugo_Symbol NCBI_Build Chromosome  Start_Position  End_Position Strand  \\\n",
       "359        PTK7     GRCh37          6        43114362      43114362      +   \n",
       "360      DZANK1     GRCh37         20        18393435      18393435      +   \n",
       "361       KCNH7     GRCh37          2       163361083     163361083      +   \n",
       "362      UGT1A3     GRCh37          2       234638106     234638106      +   \n",
       "363     FAM110B     GRCh37          8        59059129      59059129      +   \n",
       "\n",
       "    Variant_Classification Variant_Type Reference_Allele Tumor_Seq_Allele1  \\\n",
       "359      Missense_Mutation          SNP                C                 C   \n",
       "360      Missense_Mutation          SNP                C                 C   \n",
       "361      Missense_Mutation          SNP                G                 G   \n",
       "362      Nonsense_Mutation          SNP                A                 A   \n",
       "363      Missense_Mutation          SNP                G                 G   \n",
       "\n",
       "    Tumor_Seq_Allele2 Tumor_Sample_Barcode HGVSp_Short  Protein_position  \\\n",
       "359                 G               AL4602     p.L883V             883.0   \n",
       "360                 A               AL4602     p.R429S             429.0   \n",
       "361                 A               AL4602     p.P333L             333.0   \n",
       "362                 T               AL4602     p.R112*             112.0   \n",
       "363                 C               AL4602     p.E114Q             114.0   \n",
       "\n",
       "      Codons  t_ref_count  t_alt_count          PATIENT_ID  \n",
       "359  Ctc/Gtc          108           14  luad_mskcc_2015_15  \n",
       "360  agG/agT          103           11  luad_mskcc_2015_15  \n",
       "361  cCa/cTa          206           14  luad_mskcc_2015_15  \n",
       "362  Aga/Tga          278           13  luad_mskcc_2015_15  \n",
       "363  Gag/Cag           37            4  luad_mskcc_2015_15  "
      ]
     },
     "execution_count": 292,
     "metadata": {},
     "output_type": "execute_result"
    }
   ],
   "source": [
    "df_allen_mut5.head()"
   ]
  },
  {
   "cell_type": "code",
   "execution_count": 293,
   "metadata": {},
   "outputs": [],
   "source": [
    "def get_af(row):\n",
    "    alt_count = row.t_alt_count\n",
    "    ref_count = row.t_ref_count\n",
    "    try:\n",
    "        af = alt_count/(alt_count+ref_count)\n",
    "    except:\n",
    "        af = 0\n",
    "    return af"
   ]
  },
  {
   "cell_type": "code",
   "execution_count": 294,
   "metadata": {},
   "outputs": [],
   "source": [
    "df_allen_mut5['af'] = df_allen_mut5.apply(lambda row: get_af(row), axis=1)"
   ]
  },
  {
   "cell_type": "markdown",
   "metadata": {},
   "source": [
    "#### Creating data for ML"
   ]
  },
  {
   "cell_type": "code",
   "execution_count": 295,
   "metadata": {},
   "outputs": [
    {
     "data": {
      "text/html": [
       "<div>\n",
       "<style scoped>\n",
       "    .dataframe tbody tr th:only-of-type {\n",
       "        vertical-align: middle;\n",
       "    }\n",
       "\n",
       "    .dataframe tbody tr th {\n",
       "        vertical-align: top;\n",
       "    }\n",
       "\n",
       "    .dataframe thead th {\n",
       "        text-align: right;\n",
       "    }\n",
       "</style>\n",
       "<table border=\"1\" class=\"dataframe\">\n",
       "  <thead>\n",
       "    <tr style=\"text-align: right;\">\n",
       "      <th></th>\n",
       "      <th>Hugo_Symbol</th>\n",
       "      <th>NCBI_Build</th>\n",
       "      <th>Chromosome</th>\n",
       "      <th>Start_Position</th>\n",
       "      <th>End_Position</th>\n",
       "      <th>Strand</th>\n",
       "      <th>Variant_Classification</th>\n",
       "      <th>Variant_Type</th>\n",
       "      <th>Reference_Allele</th>\n",
       "      <th>Tumor_Seq_Allele1</th>\n",
       "      <th>Tumor_Seq_Allele2</th>\n",
       "      <th>Tumor_Sample_Barcode</th>\n",
       "      <th>HGVSp_Short</th>\n",
       "      <th>Protein_position</th>\n",
       "      <th>Codons</th>\n",
       "      <th>t_ref_count</th>\n",
       "      <th>t_alt_count</th>\n",
       "      <th>PATIENT_ID</th>\n",
       "      <th>af</th>\n",
       "    </tr>\n",
       "  </thead>\n",
       "  <tbody>\n",
       "    <tr>\n",
       "      <td>359</td>\n",
       "      <td>PTK7</td>\n",
       "      <td>GRCh37</td>\n",
       "      <td>6</td>\n",
       "      <td>43114362</td>\n",
       "      <td>43114362</td>\n",
       "      <td>+</td>\n",
       "      <td>Missense_Mutation</td>\n",
       "      <td>SNP</td>\n",
       "      <td>C</td>\n",
       "      <td>C</td>\n",
       "      <td>G</td>\n",
       "      <td>AL4602</td>\n",
       "      <td>p.L883V</td>\n",
       "      <td>883.0</td>\n",
       "      <td>Ctc/Gtc</td>\n",
       "      <td>108</td>\n",
       "      <td>14</td>\n",
       "      <td>luad_mskcc_2015_15</td>\n",
       "      <td>0.114754</td>\n",
       "    </tr>\n",
       "    <tr>\n",
       "      <td>360</td>\n",
       "      <td>DZANK1</td>\n",
       "      <td>GRCh37</td>\n",
       "      <td>20</td>\n",
       "      <td>18393435</td>\n",
       "      <td>18393435</td>\n",
       "      <td>+</td>\n",
       "      <td>Missense_Mutation</td>\n",
       "      <td>SNP</td>\n",
       "      <td>C</td>\n",
       "      <td>C</td>\n",
       "      <td>A</td>\n",
       "      <td>AL4602</td>\n",
       "      <td>p.R429S</td>\n",
       "      <td>429.0</td>\n",
       "      <td>agG/agT</td>\n",
       "      <td>103</td>\n",
       "      <td>11</td>\n",
       "      <td>luad_mskcc_2015_15</td>\n",
       "      <td>0.096491</td>\n",
       "    </tr>\n",
       "    <tr>\n",
       "      <td>361</td>\n",
       "      <td>KCNH7</td>\n",
       "      <td>GRCh37</td>\n",
       "      <td>2</td>\n",
       "      <td>163361083</td>\n",
       "      <td>163361083</td>\n",
       "      <td>+</td>\n",
       "      <td>Missense_Mutation</td>\n",
       "      <td>SNP</td>\n",
       "      <td>G</td>\n",
       "      <td>G</td>\n",
       "      <td>A</td>\n",
       "      <td>AL4602</td>\n",
       "      <td>p.P333L</td>\n",
       "      <td>333.0</td>\n",
       "      <td>cCa/cTa</td>\n",
       "      <td>206</td>\n",
       "      <td>14</td>\n",
       "      <td>luad_mskcc_2015_15</td>\n",
       "      <td>0.063636</td>\n",
       "    </tr>\n",
       "    <tr>\n",
       "      <td>362</td>\n",
       "      <td>UGT1A3</td>\n",
       "      <td>GRCh37</td>\n",
       "      <td>2</td>\n",
       "      <td>234638106</td>\n",
       "      <td>234638106</td>\n",
       "      <td>+</td>\n",
       "      <td>Nonsense_Mutation</td>\n",
       "      <td>SNP</td>\n",
       "      <td>A</td>\n",
       "      <td>A</td>\n",
       "      <td>T</td>\n",
       "      <td>AL4602</td>\n",
       "      <td>p.R112*</td>\n",
       "      <td>112.0</td>\n",
       "      <td>Aga/Tga</td>\n",
       "      <td>278</td>\n",
       "      <td>13</td>\n",
       "      <td>luad_mskcc_2015_15</td>\n",
       "      <td>0.044674</td>\n",
       "    </tr>\n",
       "    <tr>\n",
       "      <td>363</td>\n",
       "      <td>FAM110B</td>\n",
       "      <td>GRCh37</td>\n",
       "      <td>8</td>\n",
       "      <td>59059129</td>\n",
       "      <td>59059129</td>\n",
       "      <td>+</td>\n",
       "      <td>Missense_Mutation</td>\n",
       "      <td>SNP</td>\n",
       "      <td>G</td>\n",
       "      <td>G</td>\n",
       "      <td>C</td>\n",
       "      <td>AL4602</td>\n",
       "      <td>p.E114Q</td>\n",
       "      <td>114.0</td>\n",
       "      <td>Gag/Cag</td>\n",
       "      <td>37</td>\n",
       "      <td>4</td>\n",
       "      <td>luad_mskcc_2015_15</td>\n",
       "      <td>0.097561</td>\n",
       "    </tr>\n",
       "  </tbody>\n",
       "</table>\n",
       "</div>"
      ],
      "text/plain": [
       "    Hugo_Symbol NCBI_Build Chromosome  Start_Position  End_Position Strand  \\\n",
       "359        PTK7     GRCh37          6        43114362      43114362      +   \n",
       "360      DZANK1     GRCh37         20        18393435      18393435      +   \n",
       "361       KCNH7     GRCh37          2       163361083     163361083      +   \n",
       "362      UGT1A3     GRCh37          2       234638106     234638106      +   \n",
       "363     FAM110B     GRCh37          8        59059129      59059129      +   \n",
       "\n",
       "    Variant_Classification Variant_Type Reference_Allele Tumor_Seq_Allele1  \\\n",
       "359      Missense_Mutation          SNP                C                 C   \n",
       "360      Missense_Mutation          SNP                C                 C   \n",
       "361      Missense_Mutation          SNP                G                 G   \n",
       "362      Nonsense_Mutation          SNP                A                 A   \n",
       "363      Missense_Mutation          SNP                G                 G   \n",
       "\n",
       "    Tumor_Seq_Allele2 Tumor_Sample_Barcode HGVSp_Short  Protein_position  \\\n",
       "359                 G               AL4602     p.L883V             883.0   \n",
       "360                 A               AL4602     p.R429S             429.0   \n",
       "361                 A               AL4602     p.P333L             333.0   \n",
       "362                 T               AL4602     p.R112*             112.0   \n",
       "363                 C               AL4602     p.E114Q             114.0   \n",
       "\n",
       "      Codons  t_ref_count  t_alt_count          PATIENT_ID        af  \n",
       "359  Ctc/Gtc          108           14  luad_mskcc_2015_15  0.114754  \n",
       "360  agG/agT          103           11  luad_mskcc_2015_15  0.096491  \n",
       "361  cCa/cTa          206           14  luad_mskcc_2015_15  0.063636  \n",
       "362  Aga/Tga          278           13  luad_mskcc_2015_15  0.044674  \n",
       "363  Gag/Cag           37            4  luad_mskcc_2015_15  0.097561  "
      ]
     },
     "execution_count": 295,
     "metadata": {},
     "output_type": "execute_result"
    }
   ],
   "source": [
    "df_allen_mut5.head()"
   ]
  },
  {
   "cell_type": "code",
   "execution_count": 296,
   "metadata": {},
   "outputs": [],
   "source": [
    "data_dict = {}\n",
    "for ptid in df_allen_mut5['PATIENT_ID'].unique():\n",
    "    df_tmp1 = df_allen_mut5[df_allen_mut5['PATIENT_ID']==ptid]\n",
    "    \n",
    "    KEAP1_count = len(df_tmp1[df_tmp1['Hugo_Symbol']=='KEAP1'])\n",
    "    STK11_count = len(df_tmp1[df_tmp1['Hugo_Symbol']=='STK11'])\n",
    "    PBRM1_count = len(df_tmp1[df_tmp1['Hugo_Symbol']=='PBRM1'])\n",
    "    ZFHX3_count = len(df_tmp1[df_tmp1['Hugo_Symbol']=='ZFHX3'])\n",
    "    MET_count = len(df_tmp1[df_tmp1['Hugo_Symbol']=='MET'])\n",
    "    TP53_count = len(df_tmp1[df_tmp1['Hugo_Symbol']=='TP53'])\n",
    "    \n",
    "    tmb = len(df_tmp1)\n",
    "    KEAP1_af =  df_tmp1[df_tmp1['Hugo_Symbol']=='KEAP1']['af'].max()\n",
    "    STK11_af =  df_tmp1[df_tmp1['Hugo_Symbol']=='STK11']['af'].max()\n",
    "    PBRM1_af =  df_tmp1[df_tmp1['Hugo_Symbol']=='PBRM1']['af'].max()\n",
    "    ZFHX3_af =  df_tmp1[df_tmp1['Hugo_Symbol']=='ZFHX3']['af'].max()\n",
    "    MET_af =  df_tmp1[df_tmp1['Hugo_Symbol']=='MET']['af'].max()\n",
    "    TP53_af =  df_tmp1[df_tmp1['Hugo_Symbol']=='TP53']['af'].max()\n",
    "    \n",
    "    data_dict_tmp ={}\n",
    "    data_dict_tmp['KEAP1_count'] = KEAP1_count\n",
    "    data_dict_tmp['STK11_count'] = STK11_count\n",
    "    data_dict_tmp['PBRM1_count'] = PBRM1_count\n",
    "    data_dict_tmp['ZFHX3_count'] = ZFHX3_count\n",
    "    data_dict_tmp['MET_count'] = MET_count\n",
    "    data_dict_tmp['TP53_count'] = TP53_count\n",
    "    \n",
    "    data_dict_tmp['tmb'] = tmb\n",
    "    data_dict_tmp['KEAP1_af'] = KEAP1_af\n",
    "    data_dict_tmp['STK11_af'] = STK11_af\n",
    "    data_dict_tmp['PBRM1_af'] = PBRM1_af\n",
    "    data_dict_tmp['ZFHX3_af'] = ZFHX3_af\n",
    "    data_dict_tmp['MET_af'] = MET_af\n",
    "    data_dict_tmp['TP53_af'] = TP53_af\n",
    "    \n",
    "    data_dict[ptid] = data_dict_tmp"
   ]
  },
  {
   "cell_type": "code",
   "execution_count": null,
   "metadata": {},
   "outputs": [],
   "source": [
    "data_dict = {}\n",
    "for ptid in df_allen_mut5['PATIENT_ID'].unique():\n",
    "    df_tmp1 = df_allen_mut5[df_allen_mut5['PATIENT_ID']==ptid]\n",
    "    TP53_count = len(df_tmp1[df_tmp1['Hugo_Symbol']=='TP53'])\n",
    "    KEAP1_count = len(df_tmp1[df_tmp1['Hugo_Symbol']=='KEAP1'])\n",
    "    SMARCA4_count = len(df_tmp1[df_tmp1['Hugo_Symbol']=='SMARCA4'])\n",
    "    STK11_count = len(df_tmp1[df_tmp1['Hugo_Symbol']=='STK11'])\n",
    "    tmb = len(df_tmp1)\n",
    "    TP53_af =  df_tmp1[df_tmp1['Hugo_Symbol']=='TP53']['af'].max()\n",
    "    KEAP1_af =  df_tmp1[df_tmp1['Hugo_Symbol']=='KEAP1']['af'].max()\n",
    "    SMARCA4_af =  df_tmp1[df_tmp1['Hugo_Symbol']=='SMARCA4']['af'].max()\n",
    "    STK11_af =  df_tmp1[df_tmp1['Hugo_Symbol']=='STK11']['af'].max()\n",
    "    \n",
    "    data_dict_tmp ={}\n",
    "    data_dict_tmp['TP53_count'] = TP53_count\n",
    "    data_dict_tmp['KEAP1_count'] = KEAP1_count\n",
    "    data_dict_tmp['SMARCA4_count'] = SMARCA4_count\n",
    "    data_dict_tmp['STK11_count'] = STK11_count\n",
    "    data_dict_tmp['tmb'] = tmb\n",
    "    data_dict_tmp['TP53_af'] = TP53_af\n",
    "    data_dict_tmp['KEAP1_af'] = KEAP1_af\n",
    "    data_dict_tmp['SMARCA4_af'] = SMARCA4_af\n",
    "    data_dict_tmp['STK11_af'] = STK11_af\n",
    "    \n",
    "    data_dict[ptid] = data_dict_tmp"
   ]
  },
  {
   "cell_type": "code",
   "execution_count": 297,
   "metadata": {},
   "outputs": [],
   "source": [
    "df_test_data = pd.DataFrame.from_dict(data_dict, orient='index').reset_index()"
   ]
  },
  {
   "cell_type": "code",
   "execution_count": 298,
   "metadata": {},
   "outputs": [],
   "source": [
    "df_test_data = df_test_data.fillna(0)"
   ]
  },
  {
   "cell_type": "code",
   "execution_count": 299,
   "metadata": {},
   "outputs": [],
   "source": [
    "df_test_data = df_test_data.rename(columns={'index':'PtID'})"
   ]
  },
  {
   "cell_type": "code",
   "execution_count": 300,
   "metadata": {},
   "outputs": [
    {
     "data": {
      "text/html": [
       "<div>\n",
       "<style scoped>\n",
       "    .dataframe tbody tr th:only-of-type {\n",
       "        vertical-align: middle;\n",
       "    }\n",
       "\n",
       "    .dataframe tbody tr th {\n",
       "        vertical-align: top;\n",
       "    }\n",
       "\n",
       "    .dataframe thead th {\n",
       "        text-align: right;\n",
       "    }\n",
       "</style>\n",
       "<table border=\"1\" class=\"dataframe\">\n",
       "  <thead>\n",
       "    <tr style=\"text-align: right;\">\n",
       "      <th></th>\n",
       "      <th>PtID</th>\n",
       "      <th>KEAP1_count</th>\n",
       "      <th>STK11_count</th>\n",
       "      <th>PBRM1_count</th>\n",
       "      <th>ZFHX3_count</th>\n",
       "      <th>MET_count</th>\n",
       "      <th>TP53_count</th>\n",
       "      <th>tmb</th>\n",
       "      <th>KEAP1_af</th>\n",
       "      <th>STK11_af</th>\n",
       "      <th>PBRM1_af</th>\n",
       "      <th>ZFHX3_af</th>\n",
       "      <th>MET_af</th>\n",
       "      <th>TP53_af</th>\n",
       "    </tr>\n",
       "  </thead>\n",
       "  <tbody>\n",
       "    <tr>\n",
       "      <td>0</td>\n",
       "      <td>luad_mskcc_2015_15</td>\n",
       "      <td>0</td>\n",
       "      <td>0</td>\n",
       "      <td>0</td>\n",
       "      <td>0</td>\n",
       "      <td>0</td>\n",
       "      <td>1</td>\n",
       "      <td>165</td>\n",
       "      <td>0.0</td>\n",
       "      <td>0.0</td>\n",
       "      <td>0.0</td>\n",
       "      <td>0.0</td>\n",
       "      <td>0.0</td>\n",
       "      <td>0.073529</td>\n",
       "    </tr>\n",
       "    <tr>\n",
       "      <td>1</td>\n",
       "      <td>luad_mskcc_2015_22</td>\n",
       "      <td>0</td>\n",
       "      <td>0</td>\n",
       "      <td>0</td>\n",
       "      <td>0</td>\n",
       "      <td>0</td>\n",
       "      <td>1</td>\n",
       "      <td>85</td>\n",
       "      <td>0.0</td>\n",
       "      <td>0.0</td>\n",
       "      <td>0.0</td>\n",
       "      <td>0.0</td>\n",
       "      <td>0.0</td>\n",
       "      <td>0.169014</td>\n",
       "    </tr>\n",
       "    <tr>\n",
       "      <td>2</td>\n",
       "      <td>luad_mskcc_2015_9</td>\n",
       "      <td>0</td>\n",
       "      <td>0</td>\n",
       "      <td>0</td>\n",
       "      <td>0</td>\n",
       "      <td>0</td>\n",
       "      <td>1</td>\n",
       "      <td>342</td>\n",
       "      <td>0.0</td>\n",
       "      <td>0.0</td>\n",
       "      <td>0.0</td>\n",
       "      <td>0.0</td>\n",
       "      <td>0.0</td>\n",
       "      <td>0.469388</td>\n",
       "    </tr>\n",
       "    <tr>\n",
       "      <td>3</td>\n",
       "      <td>CANSEQU01-0100425</td>\n",
       "      <td>0</td>\n",
       "      <td>0</td>\n",
       "      <td>0</td>\n",
       "      <td>0</td>\n",
       "      <td>0</td>\n",
       "      <td>0</td>\n",
       "      <td>213</td>\n",
       "      <td>0.0</td>\n",
       "      <td>0.0</td>\n",
       "      <td>0.0</td>\n",
       "      <td>0.0</td>\n",
       "      <td>0.0</td>\n",
       "      <td>0.000000</td>\n",
       "    </tr>\n",
       "    <tr>\n",
       "      <td>4</td>\n",
       "      <td>luad_mskcc_2015_18</td>\n",
       "      <td>0</td>\n",
       "      <td>0</td>\n",
       "      <td>0</td>\n",
       "      <td>0</td>\n",
       "      <td>0</td>\n",
       "      <td>0</td>\n",
       "      <td>263</td>\n",
       "      <td>0.0</td>\n",
       "      <td>0.0</td>\n",
       "      <td>0.0</td>\n",
       "      <td>0.0</td>\n",
       "      <td>0.0</td>\n",
       "      <td>0.000000</td>\n",
       "    </tr>\n",
       "  </tbody>\n",
       "</table>\n",
       "</div>"
      ],
      "text/plain": [
       "                 PtID  KEAP1_count  STK11_count  PBRM1_count  ZFHX3_count  \\\n",
       "0  luad_mskcc_2015_15            0            0            0            0   \n",
       "1  luad_mskcc_2015_22            0            0            0            0   \n",
       "2   luad_mskcc_2015_9            0            0            0            0   \n",
       "3   CANSEQU01-0100425            0            0            0            0   \n",
       "4  luad_mskcc_2015_18            0            0            0            0   \n",
       "\n",
       "   MET_count  TP53_count  tmb  KEAP1_af  STK11_af  PBRM1_af  ZFHX3_af  MET_af  \\\n",
       "0          0           1  165       0.0       0.0       0.0       0.0     0.0   \n",
       "1          0           1   85       0.0       0.0       0.0       0.0     0.0   \n",
       "2          0           1  342       0.0       0.0       0.0       0.0     0.0   \n",
       "3          0           0  213       0.0       0.0       0.0       0.0     0.0   \n",
       "4          0           0  263       0.0       0.0       0.0       0.0     0.0   \n",
       "\n",
       "    TP53_af  \n",
       "0  0.073529  \n",
       "1  0.169014  \n",
       "2  0.469388  \n",
       "3  0.000000  \n",
       "4  0.000000  "
      ]
     },
     "execution_count": 300,
     "metadata": {},
     "output_type": "execute_result"
    }
   ],
   "source": [
    "df_test_data.head()"
   ]
  },
  {
   "cell_type": "code",
   "execution_count": null,
   "metadata": {},
   "outputs": [],
   "source": [
    "df_test_data['recist_label'] = df_test_data['PtID'].map(lambda x: labels_recist_dict[x])"
   ]
  },
  {
   "cell_type": "code",
   "execution_count": 301,
   "metadata": {},
   "outputs": [],
   "source": [
    "df_test_data['label'] = df_test_data['PtID'].map(lambda x: labels_dict[x])"
   ]
  },
  {
   "cell_type": "code",
   "execution_count": 310,
   "metadata": {},
   "outputs": [
    {
     "data": {
      "text/html": [
       "<div>\n",
       "<style scoped>\n",
       "    .dataframe tbody tr th:only-of-type {\n",
       "        vertical-align: middle;\n",
       "    }\n",
       "\n",
       "    .dataframe tbody tr th {\n",
       "        vertical-align: top;\n",
       "    }\n",
       "\n",
       "    .dataframe thead th {\n",
       "        text-align: right;\n",
       "    }\n",
       "</style>\n",
       "<table border=\"1\" class=\"dataframe\">\n",
       "  <thead>\n",
       "    <tr style=\"text-align: right;\">\n",
       "      <th></th>\n",
       "      <th>PtID</th>\n",
       "      <th>KEAP1_count</th>\n",
       "      <th>STK11_count</th>\n",
       "      <th>PBRM1_count</th>\n",
       "      <th>ZFHX3_count</th>\n",
       "      <th>MET_count</th>\n",
       "      <th>TP53_count</th>\n",
       "      <th>tmb</th>\n",
       "      <th>KEAP1_af</th>\n",
       "      <th>STK11_af</th>\n",
       "      <th>PBRM1_af</th>\n",
       "      <th>ZFHX3_af</th>\n",
       "      <th>MET_af</th>\n",
       "      <th>TP53_af</th>\n",
       "      <th>label</th>\n",
       "    </tr>\n",
       "  </thead>\n",
       "  <tbody>\n",
       "    <tr>\n",
       "      <td>0</td>\n",
       "      <td>luad_mskcc_2015_15</td>\n",
       "      <td>0</td>\n",
       "      <td>0</td>\n",
       "      <td>0</td>\n",
       "      <td>0</td>\n",
       "      <td>0</td>\n",
       "      <td>1</td>\n",
       "      <td>165</td>\n",
       "      <td>0.0</td>\n",
       "      <td>0.0</td>\n",
       "      <td>0.0</td>\n",
       "      <td>0.0</td>\n",
       "      <td>0.0</td>\n",
       "      <td>0.073529</td>\n",
       "      <td>1.0</td>\n",
       "    </tr>\n",
       "    <tr>\n",
       "      <td>1</td>\n",
       "      <td>luad_mskcc_2015_22</td>\n",
       "      <td>0</td>\n",
       "      <td>0</td>\n",
       "      <td>0</td>\n",
       "      <td>0</td>\n",
       "      <td>0</td>\n",
       "      <td>1</td>\n",
       "      <td>85</td>\n",
       "      <td>0.0</td>\n",
       "      <td>0.0</td>\n",
       "      <td>0.0</td>\n",
       "      <td>0.0</td>\n",
       "      <td>0.0</td>\n",
       "      <td>0.169014</td>\n",
       "      <td>1.0</td>\n",
       "    </tr>\n",
       "    <tr>\n",
       "      <td>2</td>\n",
       "      <td>luad_mskcc_2015_9</td>\n",
       "      <td>0</td>\n",
       "      <td>0</td>\n",
       "      <td>0</td>\n",
       "      <td>0</td>\n",
       "      <td>0</td>\n",
       "      <td>1</td>\n",
       "      <td>342</td>\n",
       "      <td>0.0</td>\n",
       "      <td>0.0</td>\n",
       "      <td>0.0</td>\n",
       "      <td>0.0</td>\n",
       "      <td>0.0</td>\n",
       "      <td>0.469388</td>\n",
       "      <td>1.0</td>\n",
       "    </tr>\n",
       "    <tr>\n",
       "      <td>3</td>\n",
       "      <td>CANSEQU01-0100425</td>\n",
       "      <td>0</td>\n",
       "      <td>0</td>\n",
       "      <td>0</td>\n",
       "      <td>0</td>\n",
       "      <td>0</td>\n",
       "      <td>0</td>\n",
       "      <td>213</td>\n",
       "      <td>0.0</td>\n",
       "      <td>0.0</td>\n",
       "      <td>0.0</td>\n",
       "      <td>0.0</td>\n",
       "      <td>0.0</td>\n",
       "      <td>0.000000</td>\n",
       "      <td>1.0</td>\n",
       "    </tr>\n",
       "    <tr>\n",
       "      <td>4</td>\n",
       "      <td>luad_mskcc_2015_18</td>\n",
       "      <td>0</td>\n",
       "      <td>0</td>\n",
       "      <td>0</td>\n",
       "      <td>0</td>\n",
       "      <td>0</td>\n",
       "      <td>0</td>\n",
       "      <td>263</td>\n",
       "      <td>0.0</td>\n",
       "      <td>0.0</td>\n",
       "      <td>0.0</td>\n",
       "      <td>0.0</td>\n",
       "      <td>0.0</td>\n",
       "      <td>0.000000</td>\n",
       "      <td>1.0</td>\n",
       "    </tr>\n",
       "  </tbody>\n",
       "</table>\n",
       "</div>"
      ],
      "text/plain": [
       "                 PtID  KEAP1_count  STK11_count  PBRM1_count  ZFHX3_count  \\\n",
       "0  luad_mskcc_2015_15            0            0            0            0   \n",
       "1  luad_mskcc_2015_22            0            0            0            0   \n",
       "2   luad_mskcc_2015_9            0            0            0            0   \n",
       "3   CANSEQU01-0100425            0            0            0            0   \n",
       "4  luad_mskcc_2015_18            0            0            0            0   \n",
       "\n",
       "   MET_count  TP53_count  tmb  KEAP1_af  STK11_af  PBRM1_af  ZFHX3_af  MET_af  \\\n",
       "0          0           1  165       0.0       0.0       0.0       0.0     0.0   \n",
       "1          0           1   85       0.0       0.0       0.0       0.0     0.0   \n",
       "2          0           1  342       0.0       0.0       0.0       0.0     0.0   \n",
       "3          0           0  213       0.0       0.0       0.0       0.0     0.0   \n",
       "4          0           0  263       0.0       0.0       0.0       0.0     0.0   \n",
       "\n",
       "    TP53_af  label  \n",
       "0  0.073529    1.0  \n",
       "1  0.169014    1.0  \n",
       "2  0.469388    1.0  \n",
       "3  0.000000    1.0  \n",
       "4  0.000000    1.0  "
      ]
     },
     "execution_count": 310,
     "metadata": {},
     "output_type": "execute_result"
    }
   ],
   "source": [
    "df_test_data.head()"
   ]
  },
  {
   "cell_type": "code",
   "execution_count": null,
   "metadata": {},
   "outputs": [],
   "source": [
    "df_test_data.recist_label.value_counts()"
   ]
  },
  {
   "cell_type": "code",
   "execution_count": null,
   "metadata": {},
   "outputs": [],
   "source": [
    "df_test_data.columns"
   ]
  },
  {
   "cell_type": "code",
   "execution_count": 302,
   "metadata": {},
   "outputs": [],
   "source": [
    "X_test = df_test_data[['tmb', 'KEAP1_count', 'STK11_count', 'PBRM1_count', 'ZFHX3_count',\n",
    "                   'MET_count', 'TP53_count', 'KEAP1_af', 'STK11_af', 'PBRM1_af',\n",
    "                   'ZFHX3_af', 'MET_af', 'TP53_af']]\n",
    "# X_test = df_test_data[['tmb', 'TP53_count', 'KEAP1_count', 'SMARCA4_count', 'STK11_count']]"
   ]
  },
  {
   "cell_type": "code",
   "execution_count": 303,
   "metadata": {},
   "outputs": [],
   "source": [
    "scaler = preprocessing.MinMaxScaler()\n",
    "scaler_mod = scaler.fit(X_test)\n",
    "scaled_X = scaler_mod.transform(X_test)\n",
    "df_scaled_X = pd.DataFrame(scaled_X, columns=X_test.columns)"
   ]
  },
  {
   "cell_type": "code",
   "execution_count": 304,
   "metadata": {},
   "outputs": [],
   "source": [
    "X_test = df_scaled_X.values\n",
    "Y_test = df_test_data['label'].values"
   ]
  },
  {
   "cell_type": "code",
   "execution_count": 305,
   "metadata": {},
   "outputs": [],
   "source": [
    "Y_predict = model_gbc.predict(X_test)"
   ]
  },
  {
   "cell_type": "code",
   "execution_count": 312,
   "metadata": {},
   "outputs": [],
   "source": [
    "df_test_data['ccg_prediction'] = Y_predict"
   ]
  },
  {
   "cell_type": "code",
   "execution_count": 318,
   "metadata": {},
   "outputs": [],
   "source": [
    "df_test_data['OS_MONTHS'] = df_test_data['PtID'].map(lambda x: os_months_dict[x])"
   ]
  },
  {
   "cell_type": "code",
   "execution_count": 319,
   "metadata": {},
   "outputs": [],
   "source": [
    "df_test_data['CNSR'] = df_test_data['PtID'].map(lambda x: cnsr_dict[x])"
   ]
  },
  {
   "cell_type": "code",
   "execution_count": 313,
   "metadata": {},
   "outputs": [
    {
     "data": {
      "text/html": [
       "<div>\n",
       "<style scoped>\n",
       "    .dataframe tbody tr th:only-of-type {\n",
       "        vertical-align: middle;\n",
       "    }\n",
       "\n",
       "    .dataframe tbody tr th {\n",
       "        vertical-align: top;\n",
       "    }\n",
       "\n",
       "    .dataframe thead th {\n",
       "        text-align: right;\n",
       "    }\n",
       "</style>\n",
       "<table border=\"1\" class=\"dataframe\">\n",
       "  <thead>\n",
       "    <tr style=\"text-align: right;\">\n",
       "      <th></th>\n",
       "      <th>PtID</th>\n",
       "      <th>KEAP1_count</th>\n",
       "      <th>STK11_count</th>\n",
       "      <th>PBRM1_count</th>\n",
       "      <th>ZFHX3_count</th>\n",
       "      <th>MET_count</th>\n",
       "      <th>TP53_count</th>\n",
       "      <th>tmb</th>\n",
       "      <th>KEAP1_af</th>\n",
       "      <th>STK11_af</th>\n",
       "      <th>PBRM1_af</th>\n",
       "      <th>ZFHX3_af</th>\n",
       "      <th>MET_af</th>\n",
       "      <th>TP53_af</th>\n",
       "      <th>label</th>\n",
       "      <th>ccg_prediction</th>\n",
       "    </tr>\n",
       "  </thead>\n",
       "  <tbody>\n",
       "    <tr>\n",
       "      <td>0</td>\n",
       "      <td>luad_mskcc_2015_15</td>\n",
       "      <td>0</td>\n",
       "      <td>0</td>\n",
       "      <td>0</td>\n",
       "      <td>0</td>\n",
       "      <td>0</td>\n",
       "      <td>1</td>\n",
       "      <td>165</td>\n",
       "      <td>0.0</td>\n",
       "      <td>0.0</td>\n",
       "      <td>0.0</td>\n",
       "      <td>0.0</td>\n",
       "      <td>0.0</td>\n",
       "      <td>0.073529</td>\n",
       "      <td>1.0</td>\n",
       "      <td>1.0</td>\n",
       "    </tr>\n",
       "    <tr>\n",
       "      <td>1</td>\n",
       "      <td>luad_mskcc_2015_22</td>\n",
       "      <td>0</td>\n",
       "      <td>0</td>\n",
       "      <td>0</td>\n",
       "      <td>0</td>\n",
       "      <td>0</td>\n",
       "      <td>1</td>\n",
       "      <td>85</td>\n",
       "      <td>0.0</td>\n",
       "      <td>0.0</td>\n",
       "      <td>0.0</td>\n",
       "      <td>0.0</td>\n",
       "      <td>0.0</td>\n",
       "      <td>0.169014</td>\n",
       "      <td>1.0</td>\n",
       "      <td>0.0</td>\n",
       "    </tr>\n",
       "    <tr>\n",
       "      <td>2</td>\n",
       "      <td>luad_mskcc_2015_9</td>\n",
       "      <td>0</td>\n",
       "      <td>0</td>\n",
       "      <td>0</td>\n",
       "      <td>0</td>\n",
       "      <td>0</td>\n",
       "      <td>1</td>\n",
       "      <td>342</td>\n",
       "      <td>0.0</td>\n",
       "      <td>0.0</td>\n",
       "      <td>0.0</td>\n",
       "      <td>0.0</td>\n",
       "      <td>0.0</td>\n",
       "      <td>0.469388</td>\n",
       "      <td>1.0</td>\n",
       "      <td>0.0</td>\n",
       "    </tr>\n",
       "    <tr>\n",
       "      <td>3</td>\n",
       "      <td>CANSEQU01-0100425</td>\n",
       "      <td>0</td>\n",
       "      <td>0</td>\n",
       "      <td>0</td>\n",
       "      <td>0</td>\n",
       "      <td>0</td>\n",
       "      <td>0</td>\n",
       "      <td>213</td>\n",
       "      <td>0.0</td>\n",
       "      <td>0.0</td>\n",
       "      <td>0.0</td>\n",
       "      <td>0.0</td>\n",
       "      <td>0.0</td>\n",
       "      <td>0.000000</td>\n",
       "      <td>1.0</td>\n",
       "      <td>1.0</td>\n",
       "    </tr>\n",
       "    <tr>\n",
       "      <td>4</td>\n",
       "      <td>luad_mskcc_2015_18</td>\n",
       "      <td>0</td>\n",
       "      <td>0</td>\n",
       "      <td>0</td>\n",
       "      <td>0</td>\n",
       "      <td>0</td>\n",
       "      <td>0</td>\n",
       "      <td>263</td>\n",
       "      <td>0.0</td>\n",
       "      <td>0.0</td>\n",
       "      <td>0.0</td>\n",
       "      <td>0.0</td>\n",
       "      <td>0.0</td>\n",
       "      <td>0.000000</td>\n",
       "      <td>1.0</td>\n",
       "      <td>1.0</td>\n",
       "    </tr>\n",
       "  </tbody>\n",
       "</table>\n",
       "</div>"
      ],
      "text/plain": [
       "                 PtID  KEAP1_count  STK11_count  PBRM1_count  ZFHX3_count  \\\n",
       "0  luad_mskcc_2015_15            0            0            0            0   \n",
       "1  luad_mskcc_2015_22            0            0            0            0   \n",
       "2   luad_mskcc_2015_9            0            0            0            0   \n",
       "3   CANSEQU01-0100425            0            0            0            0   \n",
       "4  luad_mskcc_2015_18            0            0            0            0   \n",
       "\n",
       "   MET_count  TP53_count  tmb  KEAP1_af  STK11_af  PBRM1_af  ZFHX3_af  MET_af  \\\n",
       "0          0           1  165       0.0       0.0       0.0       0.0     0.0   \n",
       "1          0           1   85       0.0       0.0       0.0       0.0     0.0   \n",
       "2          0           1  342       0.0       0.0       0.0       0.0     0.0   \n",
       "3          0           0  213       0.0       0.0       0.0       0.0     0.0   \n",
       "4          0           0  263       0.0       0.0       0.0       0.0     0.0   \n",
       "\n",
       "    TP53_af  label  ccg_prediction  \n",
       "0  0.073529    1.0             1.0  \n",
       "1  0.169014    1.0             0.0  \n",
       "2  0.469388    1.0             0.0  \n",
       "3  0.000000    1.0             1.0  \n",
       "4  0.000000    1.0             1.0  "
      ]
     },
     "execution_count": 313,
     "metadata": {},
     "output_type": "execute_result"
    }
   ],
   "source": [
    "df_test_data.head()"
   ]
  },
  {
   "cell_type": "code",
   "execution_count": 306,
   "metadata": {},
   "outputs": [],
   "source": [
    "from sklearn.metrics import balanced_accuracy_score"
   ]
  },
  {
   "cell_type": "code",
   "execution_count": 307,
   "metadata": {},
   "outputs": [
    {
     "data": {
      "text/plain": [
       "0.7"
      ]
     },
     "execution_count": 307,
     "metadata": {},
     "output_type": "execute_result"
    }
   ],
   "source": [
    "balanced_accuracy_score(Y_test, Y_predict)"
   ]
  },
  {
   "cell_type": "code",
   "execution_count": 308,
   "metadata": {},
   "outputs": [],
   "source": [
    "Y_predict_prob = model_gbc.predict_proba(X_test)[:,1]"
   ]
  },
  {
   "cell_type": "code",
   "execution_count": 309,
   "metadata": {},
   "outputs": [
    {
     "data": {
      "text/plain": [
       "array([0.77478154, 0.25858395, 0.21632797, 0.63373857, 0.77332734,\n",
       "       0.40018155, 0.98089111, 0.64452713, 0.22012449, 0.62326719,\n",
       "       0.61139019, 0.28784994, 0.146954  , 0.52231697, 0.99394859,\n",
       "       0.53431917, 0.47174799, 0.97875962, 0.18908352, 0.08832344,\n",
       "       0.5448119 , 0.90284522, 0.97509553, 0.35745566, 0.41267686,\n",
       "       0.91669179, 0.98412077, 0.63373857, 0.61555674, 0.390104  ,\n",
       "       0.26634847, 0.31210265, 0.95215567, 0.41099263, 0.4771531 ,\n",
       "       0.17278516, 0.25081796, 0.13427226, 0.14082688, 0.53431917])"
      ]
     },
     "execution_count": 309,
     "metadata": {},
     "output_type": "execute_result"
    }
   ],
   "source": [
    "Y_predict_prob"
   ]
  },
  {
   "cell_type": "markdown",
   "metadata": {},
   "source": [
    "### Survival curve analysis"
   ]
  },
  {
   "cell_type": "code",
   "execution_count": 320,
   "metadata": {},
   "outputs": [
    {
     "data": {
      "text/html": [
       "<div>\n",
       "<style scoped>\n",
       "    .dataframe tbody tr th:only-of-type {\n",
       "        vertical-align: middle;\n",
       "    }\n",
       "\n",
       "    .dataframe tbody tr th {\n",
       "        vertical-align: top;\n",
       "    }\n",
       "\n",
       "    .dataframe thead th {\n",
       "        text-align: right;\n",
       "    }\n",
       "</style>\n",
       "<table border=\"1\" class=\"dataframe\">\n",
       "  <tbody>\n",
       "    <tr>\n",
       "      <th>model</th>\n",
       "      <td>lifelines.CoxPHFitter</td>\n",
       "    </tr>\n",
       "    <tr>\n",
       "      <th>duration col</th>\n",
       "      <td>'OS_MONTHS'</td>\n",
       "    </tr>\n",
       "    <tr>\n",
       "      <th>event col</th>\n",
       "      <td>'CNSR'</td>\n",
       "    </tr>\n",
       "    <tr>\n",
       "      <th>number of observations</th>\n",
       "      <td>40</td>\n",
       "    </tr>\n",
       "    <tr>\n",
       "      <th>number of events observed</th>\n",
       "      <td>16</td>\n",
       "    </tr>\n",
       "    <tr>\n",
       "      <th>partial log-likelihood</th>\n",
       "      <td>-43.81</td>\n",
       "    </tr>\n",
       "    <tr>\n",
       "      <th>time fit was run</th>\n",
       "      <td>2020-03-05 17:29:17 UTC</td>\n",
       "    </tr>\n",
       "  </tbody>\n",
       "</table>\n",
       "</div><table border=\"1\" class=\"dataframe\">\n",
       "  <thead>\n",
       "    <tr style=\"text-align: right;\">\n",
       "      <th></th>\n",
       "      <th>coef</th>\n",
       "      <th>exp(coef)</th>\n",
       "      <th>se(coef)</th>\n",
       "      <th>coef lower 95%</th>\n",
       "      <th>coef upper 95%</th>\n",
       "      <th>exp(coef) lower 95%</th>\n",
       "      <th>exp(coef) upper 95%</th>\n",
       "      <th>z</th>\n",
       "      <th>p</th>\n",
       "      <th>-log2(p)</th>\n",
       "    </tr>\n",
       "  </thead>\n",
       "  <tbody>\n",
       "    <tr>\n",
       "      <th>tmb</th>\n",
       "      <td>-0.00</td>\n",
       "      <td>1.00</td>\n",
       "      <td>0.00</td>\n",
       "      <td>-0.01</td>\n",
       "      <td>0.00</td>\n",
       "      <td>0.99</td>\n",
       "      <td>1.00</td>\n",
       "      <td>-1.61</td>\n",
       "      <td>0.11</td>\n",
       "      <td>3.21</td>\n",
       "    </tr>\n",
       "    <tr>\n",
       "      <th>ccg_prediction</th>\n",
       "      <td>-0.82</td>\n",
       "      <td>0.44</td>\n",
       "      <td>0.55</td>\n",
       "      <td>-1.90</td>\n",
       "      <td>0.26</td>\n",
       "      <td>0.15</td>\n",
       "      <td>1.30</td>\n",
       "      <td>-1.48</td>\n",
       "      <td>0.14</td>\n",
       "      <td>2.86</td>\n",
       "    </tr>\n",
       "  </tbody>\n",
       "</table><div>\n",
       "<style scoped>\n",
       "    .dataframe tbody tr th:only-of-type {\n",
       "        vertical-align: middle;\n",
       "    }\n",
       "\n",
       "    .dataframe tbody tr th {\n",
       "        vertical-align: top;\n",
       "    }\n",
       "\n",
       "    .dataframe thead th {\n",
       "        text-align: right;\n",
       "    }\n",
       "</style>\n",
       "<table border=\"1\" class=\"dataframe\">\n",
       "  <tbody>\n",
       "    <tr>\n",
       "      <th>Concordance</th>\n",
       "      <td>0.78</td>\n",
       "    </tr>\n",
       "    <tr>\n",
       "      <th>Log-likelihood ratio test</th>\n",
       "      <td>9.25 on 2 df, -log2(p)=6.67</td>\n",
       "    </tr>\n",
       "  </tbody>\n",
       "</table>\n",
       "</div>"
      ],
      "text/plain": [
       "<IPython.core.display.HTML object>"
      ]
     },
     "metadata": {},
     "output_type": "display_data"
    }
   ],
   "source": [
    "from lifelines import CoxPHFitter\n",
    "df_tmp = df_test_data[['OS_MONTHS', 'CNSR', 'tmb', 'ccg_prediction']]\n",
    "cph = CoxPHFitter()\n",
    "cph.fit(df_tmp, duration_col='OS_MONTHS', event_col='CNSR')\n",
    "cph.print_summary()"
   ]
  },
  {
   "cell_type": "code",
   "execution_count": null,
   "metadata": {},
   "outputs": [],
   "source": [
    "        columns=['OS', 'CNSR', 'tmb_status', gene]\n",
    "        df_temp1 = df_gandara1[columns]\n",
    "        occurence = df_temp1[gene].values.sum()\n",
    "        cph = CoxPHFitter()\n",
    "        cph.fit(df_temp1, duration_col='OS', event_col='CNSR')\n",
    "        HR = cph.hazard_ratios_[gene]\n",
    "        p =  cph.summary['p'][gene]\n",
    "        z =  cph.summary['z'][gene]"
   ]
  },
  {
   "cell_type": "markdown",
   "metadata": {},
   "source": [
    "## 3. Evaluation on Gandara"
   ]
  },
  {
   "cell_type": "code",
   "execution_count": null,
   "metadata": {},
   "outputs": [],
   "source": [
    "df_oak = pd.read_excel('../data/gandara/41591_2018_134_MOESM3_ESM.xlsx', sheet_name='OAK_Clinical_Data')\n",
    "df_pop = pd.read_excel('../data/gandara/41591_2018_134_MOESM3_ESM.xlsx', sheet_name='POPLAR_Clinical_Data')\n",
    "df_mut = pd.read_excel('../data/gandara/41591_2018_134_MOESM3_ESM.xlsx', sheet_name='OAK_POPLAR_btmb_variants')"
   ]
  },
  {
   "cell_type": "code",
   "execution_count": null,
   "metadata": {},
   "outputs": [],
   "source": [
    "df_pop1 = df_pop[(df_pop['BCOR']=='PD') | (df_pop['BCOR']=='PR') | (df_pop['BCOR']=='CR')]"
   ]
  },
  {
   "cell_type": "code",
   "execution_count": null,
   "metadata": {},
   "outputs": [],
   "source": [
    "def get_label(disease_status):\n",
    "    if disease_status == 'PD':\n",
    "        label=1\n",
    "    elif disease_status =='PR':\n",
    "        label=0\n",
    "    elif disease_status=='CR':\n",
    "        label=0\n",
    "    else:\n",
    "        label = np.nan\n",
    "    return label"
   ]
  },
  {
   "cell_type": "code",
   "execution_count": null,
   "metadata": {},
   "outputs": [],
   "source": [
    "df_pop1['label'] = df_pop1['BCOR'].map(lambda x: get_label(x))"
   ]
  },
  {
   "cell_type": "code",
   "execution_count": null,
   "metadata": {},
   "outputs": [],
   "source": [
    "df_pop1 = df_pop1[df_pop1['TRT01P']=='MPDL3280A']"
   ]
  },
  {
   "cell_type": "code",
   "execution_count": null,
   "metadata": {},
   "outputs": [],
   "source": [
    "df_pop1.label.value_counts()"
   ]
  },
  {
   "cell_type": "code",
   "execution_count": null,
   "metadata": {},
   "outputs": [],
   "source": [
    "patient_ids_pop = df_pop1.PtID.unique()"
   ]
  },
  {
   "cell_type": "code",
   "execution_count": null,
   "metadata": {},
   "outputs": [],
   "source": [
    "df_mut_pop = df_mut[df_mut['PtID'].isin(patient_ids_pop)]"
   ]
  },
  {
   "cell_type": "code",
   "execution_count": null,
   "metadata": {},
   "outputs": [],
   "source": [
    "len(df_mut_pop.PtID.unique())"
   ]
  },
  {
   "cell_type": "code",
   "execution_count": null,
   "metadata": {},
   "outputs": [],
   "source": [
    "len(df_mut_pop)"
   ]
  },
  {
   "cell_type": "code",
   "execution_count": null,
   "metadata": {},
   "outputs": [],
   "source": [
    "df_mut_pop.head()"
   ]
  },
  {
   "cell_type": "markdown",
   "metadata": {},
   "source": [
    "### Creating data based on new genes"
   ]
  },
  {
   "cell_type": "code",
   "execution_count": null,
   "metadata": {},
   "outputs": [],
   "source": [
    "data_dict = {}\n",
    "for ptid in df_mut_pop.PtID.unique():\n",
    "    df_tmp1 = df_mut_pop[df_mut_pop['PtID']==ptid]\n",
    "    KEAP1_count = len(df_tmp1[df_tmp1['gene_name']=='KEAP1'])\n",
    "    STK11_count = len(df_tmp1[df_tmp1['gene_name']=='STK11'])\n",
    "    PBRM1_count = len(df_tmp1[df_tmp1['gene_name']=='PBRM1'])\n",
    "    ZFHX3_count = len(df_tmp1[df_tmp1['gene_name']=='ZFHX3'])\n",
    "    MET_count = len(df_tmp1[df_tmp1['gene_name']=='MET'])\n",
    "    TP53_count = len(df_tmp1[df_tmp1['gene_name']=='TP53'])\n",
    "    \n",
    "    tmb = len(df_tmp1)\n",
    "    KEAP1_af =  df_tmp1[df_tmp1['gene_name']=='KEAP1']['af'].max()\n",
    "    STK11_af =  df_tmp1[df_tmp1['gene_name']=='STK11']['af'].max()\n",
    "    PBRM1_af =  df_tmp1[df_tmp1['gene_name']=='PBRM1']['af'].max()\n",
    "    ZFHX3_af =  df_tmp1[df_tmp1['gene_name']=='ZFHX3']['af'].max()\n",
    "    MET_af =  df_tmp1[df_tmp1['gene_name']=='MET']['af'].max()\n",
    "    TP53_af =  df_tmp1[df_tmp1['gene_name']=='TP53']['af'].max()\n",
    "    \n",
    "    data_dict_tmp ={}\n",
    "    data_dict_tmp['KEAP1_count'] = KEAP1_count\n",
    "    data_dict_tmp['STK11_count'] = STK11_count\n",
    "    data_dict_tmp['PBRM1_count'] = PBRM1_count\n",
    "    data_dict_tmp['ZFHX3_count'] = ZFHX3_count\n",
    "    data_dict_tmp['MET_count'] = MET_count\n",
    "    data_dict_tmp['TP53_count'] = TP53_count\n",
    "    \n",
    "    data_dict_tmp['tmb'] = tmb\n",
    "    data_dict_tmp['KEAP1_af'] = KEAP1_af\n",
    "    data_dict_tmp['STK11_af'] = STK11_af\n",
    "    data_dict_tmp['PBRM1_af'] = PBRM1_af\n",
    "    data_dict_tmp['ZFHX3_af'] = ZFHX3_af\n",
    "    data_dict_tmp['MET_af'] = MET_af\n",
    "    data_dict_tmp['TP53_af'] = TP53_af\n",
    "    \n",
    "    data_dict[ptid] = data_dict_tmp"
   ]
  },
  {
   "cell_type": "code",
   "execution_count": null,
   "metadata": {},
   "outputs": [],
   "source": [
    "df_data_pop = pd.DataFrame.from_dict(data_dict, orient='index').reset_index()"
   ]
  },
  {
   "cell_type": "code",
   "execution_count": null,
   "metadata": {},
   "outputs": [],
   "source": [
    "df_data_pop.head()"
   ]
  },
  {
   "cell_type": "code",
   "execution_count": null,
   "metadata": {},
   "outputs": [],
   "source": [
    "df_data_pop = df_data_pop.rename(columns={'index':'PtID'})"
   ]
  },
  {
   "cell_type": "code",
   "execution_count": null,
   "metadata": {},
   "outputs": [],
   "source": [
    "ptid_btmb_pop_dict = df_pop1[['PtID', 'btmb']].set_index('PtID').to_dict()['btmb']"
   ]
  },
  {
   "cell_type": "code",
   "execution_count": null,
   "metadata": {},
   "outputs": [],
   "source": [
    "df_data_pop['btmb'] = df_data_pop['PtID'].map(lambda x: ptid_btmb_pop_dict[x])"
   ]
  },
  {
   "cell_type": "code",
   "execution_count": null,
   "metadata": {},
   "outputs": [],
   "source": [
    "df_data_pop = df_data_pop.fillna(0)"
   ]
  },
  {
   "cell_type": "code",
   "execution_count": null,
   "metadata": {},
   "outputs": [],
   "source": [
    "df_data_pop.columns"
   ]
  },
  {
   "cell_type": "code",
   "execution_count": null,
   "metadata": {},
   "outputs": [],
   "source": [
    "df_label_pop = df_pop1[['PtID', 'label']]"
   ]
  },
  {
   "cell_type": "code",
   "execution_count": null,
   "metadata": {},
   "outputs": [],
   "source": [
    "df_data_pop_final = pd.merge(df_data_pop,df_label_pop, on='PtID')"
   ]
  },
  {
   "cell_type": "markdown",
   "metadata": {},
   "source": [
    "#### test data"
   ]
  },
  {
   "cell_type": "code",
   "execution_count": null,
   "metadata": {},
   "outputs": [],
   "source": [
    "df_data_pop_final.label.value_counts()"
   ]
  },
  {
   "cell_type": "code",
   "execution_count": null,
   "metadata": {},
   "outputs": [],
   "source": [
    "# X_test = df_data_pop_final[['KEAP1_count', 'STK11_count', 'PBRM1_count', 'ZFHX3_count',\n",
    "#                             'MET_count', 'NTRK3_count', 'KEAP1_af', 'STK11_af', 'PBRM1_af',\n",
    "#                             'ZFHX3_af', 'MET_af', 'NTRK3_af', 'btmb']]\n",
    "X_test = df_data_pop_final[['btmb', 'KEAP1_count', 'STK11_count', 'PBRM1_count', 'ZFHX3_count',\n",
    "                   'MET_count', 'TP53_count', 'KEAP1_af', 'STK11_af', 'PBRM1_af',\n",
    "                   'ZFHX3_af', 'MET_af', 'TP53_af']]\n",
    "# X_test = df_data_pop_final[['f1', 'f2', 'f3', 'f4']]\n",
    "# X_test = df_data_pop_final[['btmb']]"
   ]
  },
  {
   "cell_type": "code",
   "execution_count": null,
   "metadata": {},
   "outputs": [],
   "source": [
    "scaler = preprocessing.MinMaxScaler()\n",
    "scaler_mod = scaler.fit(X_test)\n",
    "scaled_X = scaler_mod.transform(X_test)\n",
    "df_scaled_X = pd.DataFrame(scaled_X, columns=X_test.columns)"
   ]
  },
  {
   "cell_type": "code",
   "execution_count": null,
   "metadata": {},
   "outputs": [],
   "source": [
    "X_test = df_scaled_X.values\n",
    "Y_test = df_data_pop_final['label'].values"
   ]
  },
  {
   "cell_type": "code",
   "execution_count": null,
   "metadata": {},
   "outputs": [],
   "source": [
    "Y_predict = model_gbc.predict(X_test)\n",
    "Y_prob = model_gbc.predict_proba(X_test)[:,1]"
   ]
  },
  {
   "cell_type": "code",
   "execution_count": null,
   "metadata": {},
   "outputs": [],
   "source": [
    "Y_prob"
   ]
  },
  {
   "cell_type": "code",
   "execution_count": null,
   "metadata": {},
   "outputs": [],
   "source": [
    "Y_predict_threshold = (model_gbc.predict_proba(X_test)[:,1] >= 0.35).astype(bool)"
   ]
  },
  {
   "cell_type": "code",
   "execution_count": null,
   "metadata": {},
   "outputs": [],
   "source": [
    "#Y_tmb_pred = df_data_pop_final['tmb_pred'].values"
   ]
  },
  {
   "cell_type": "code",
   "execution_count": null,
   "metadata": {},
   "outputs": [],
   "source": [
    "from sklearn.metrics import balanced_accuracy_score\n",
    "balanced_accuracy_score(Y_test, Y_predict)"
   ]
  },
  {
   "cell_type": "code",
   "execution_count": null,
   "metadata": {},
   "outputs": [],
   "source": [
    "balanced_accuracy_score(Y_test, Y_predict_threshold)"
   ]
  },
  {
   "cell_type": "code",
   "execution_count": null,
   "metadata": {},
   "outputs": [],
   "source": [
    "from sklearn.metrics import roc_auc_score\n",
    "Y_prob = model_gbc.predict_proba(X_test)[:,1]\n",
    "roc_auc_score(Y_test, Y_prob)"
   ]
  },
  {
   "cell_type": "code",
   "execution_count": null,
   "metadata": {},
   "outputs": [],
   "source": []
  }
 ],
 "metadata": {
  "kernelspec": {
   "display_name": "Python 3",
   "language": "python",
   "name": "python3"
  },
  "language_info": {
   "codemirror_mode": {
    "name": "ipython",
    "version": 3
   },
   "file_extension": ".py",
   "mimetype": "text/x-python",
   "name": "python",
   "nbconvert_exporter": "python",
   "pygments_lexer": "ipython3",
   "version": "3.8.5"
  }
 },
 "nbformat": 4,
 "nbformat_minor": 4
}
